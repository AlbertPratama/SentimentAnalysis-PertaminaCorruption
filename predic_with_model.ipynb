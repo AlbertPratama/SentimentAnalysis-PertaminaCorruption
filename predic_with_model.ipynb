{
 "cells": [
  {
   "cell_type": "code",
   "execution_count": 27,
   "metadata": {},
   "outputs": [],
   "source": [
    "import pandas as pd\n",
    "from transformers import AutoTokenizer, AutoModelForSequenceClassification\n",
    "import numpy as np\n"
   ]
  },
  {
   "cell_type": "code",
   "execution_count": 44,
   "metadata": {},
   "outputs": [],
   "source": [
    "model_path = './tuned_indobert_sentiment/checkpoint-480/'\n",
    "model = AutoModelForSequenceClassification.from_pretrained(model_path)\n",
    "tokenizer = AutoTokenizer.from_pretrained(model_path)\n",
    "\n",
    "id2labels = {0: \"Negatif\", 1: \"Netral\", 2: \"Positif\"}"
   ]
  },
  {
   "cell_type": "code",
   "execution_count": null,
   "metadata": {},
   "outputs": [],
   "source": [
    "# with open('sample_cleaning.csv', encoding='ISO-8859-1') as file:\n",
    "#     sample_data = pd.read_csv(file)\n",
    "\n",
    "# sample_data.head()"
   ]
  },
  {
   "cell_type": "code",
   "execution_count": 45,
   "metadata": {},
   "outputs": [],
   "source": [
    "def predict_func(df):\n",
    "    inputs = tokenizer(df, return_tensors='pt', truncation=True, max_length=512)\n",
    "    outputs = model(**inputs)\n",
    "\n",
    "    logits = outputs.logits.detach().numpy()\n",
    "    probability = np.exp(logits) / np.exp(logits).sum(axis=-1, keepdims=True)\n",
    "    id = np.argmax(probability, axis=1)[0]\n",
    "\n",
    "    preds = id2labels[id]\n",
    "    confi = probability[0][id]\n",
    "\n",
    "\n",
    "    return preds"
   ]
  },
  {
   "cell_type": "code",
   "execution_count": 46,
   "metadata": {},
   "outputs": [
    {
     "data": {
      "text/plain": [
       "39"
      ]
     },
     "execution_count": 46,
     "metadata": {},
     "output_type": "execute_result"
    }
   ],
   "source": [
    "sentiment_public = pd.read_csv('sentiment_public.csv')\n",
    "sentiment_public['comment'].isna().sum()"
   ]
  },
  {
   "cell_type": "code",
   "execution_count": 47,
   "metadata": {},
   "outputs": [
    {
     "data": {
      "application/vnd.microsoft.datawrangler.viewer.v0+json": {
       "columns": [
        {
         "name": "index",
         "rawType": "int64",
         "type": "integer"
        },
        {
         "name": "username",
         "rawType": "object",
         "type": "string"
        },
        {
         "name": "comment",
         "rawType": "object",
         "type": "unknown"
        }
       ],
       "conversionMethod": "pd.DataFrame",
       "ref": "bbf8013c-8593-4b0f-820b-c31175c0f3c2",
       "rows": [
        [
         "380",
         "@ON55football",
         null
        ],
        [
         "552",
         "@wnosi.9924",
         null
        ],
        [
         "733",
         "@K-Chaannn",
         null
        ],
        [
         "743",
         "@AditMazbray",
         null
        ],
        [
         "745",
         "@hartinikandanichanel2135",
         null
        ],
        [
         "901",
         "@delapan1-9",
         null
        ],
        [
         "990",
         "@handru_1377",
         null
        ],
        [
         "2165",
         "@muhammadsyahfi5899",
         null
        ],
        [
         "2589",
         "@ahadtanipertanian8399",
         null
        ],
        [
         "2675",
         "@SigitBoki-q5k",
         null
        ],
        [
         "2819",
         "@Fathirkribo-qh4np",
         null
        ],
        [
         "3123",
         "@suroyorayasura7045",
         null
        ],
        [
         "4559",
         "@karsokarso9651",
         null
        ],
        [
         "4909",
         "@pendekar_hukum111",
         null
        ],
        [
         "5204",
         "@salehsalh8568",
         null
        ],
        [
         "5225",
         "@EniSumala",
         null
        ],
        [
         "5299",
         "@lyaa_4u-4u",
         null
        ],
        [
         "5346",
         "@Unknownperson_2404",
         null
        ],
        [
         "5368",
         "@ancacaa22",
         null
        ],
        [
         "5385",
         "@waqfpro",
         null
        ],
        [
         "5441",
         "@afdal0177",
         null
        ],
        [
         "5678",
         "@Jeane-oz6oo",
         null
        ],
        [
         "5851",
         "@Gm_channel",
         null
        ],
        [
         "5886",
         "@markuspatabang8793",
         null
        ],
        [
         "6013",
         "@FighterJak",
         null
        ],
        [
         "6061",
         "@oppaapid9034",
         null
        ],
        [
         "6063",
         "@oppaapid9034",
         null
        ],
        [
         "6136",
         "@HanyaFansBiasa",
         null
        ],
        [
         "6169",
         "@tomymahtum6175",
         null
        ],
        [
         "6408",
         "@nenengtarno4425",
         null
        ],
        [
         "6558",
         "@bismillahirrahmanirrahim8566",
         null
        ],
        [
         "6847",
         "@Frameuiofficialshort",
         null
        ],
        [
         "6952",
         "@widynara",
         null
        ],
        [
         "7190",
         "@Rungkut-k2b",
         null
        ],
        [
         "7389",
         "@febybybuluxlazada5040",
         null
        ],
        [
         "7467",
         "@enyefn3435",
         null
        ],
        [
         "7523",
         "kelly_alwi",
         null
        ],
        [
         "7527",
         "SibroM117",
         null
        ],
        [
         "7533",
         "Walangarei13303",
         null
        ]
       ],
       "shape": {
        "columns": 2,
        "rows": 39
       }
      },
      "text/html": [
       "<div>\n",
       "<style scoped>\n",
       "    .dataframe tbody tr th:only-of-type {\n",
       "        vertical-align: middle;\n",
       "    }\n",
       "\n",
       "    .dataframe tbody tr th {\n",
       "        vertical-align: top;\n",
       "    }\n",
       "\n",
       "    .dataframe thead th {\n",
       "        text-align: right;\n",
       "    }\n",
       "</style>\n",
       "<table border=\"1\" class=\"dataframe\">\n",
       "  <thead>\n",
       "    <tr style=\"text-align: right;\">\n",
       "      <th></th>\n",
       "      <th>username</th>\n",
       "      <th>comment</th>\n",
       "    </tr>\n",
       "  </thead>\n",
       "  <tbody>\n",
       "    <tr>\n",
       "      <th>380</th>\n",
       "      <td>@ON55football</td>\n",
       "      <td>NaN</td>\n",
       "    </tr>\n",
       "    <tr>\n",
       "      <th>552</th>\n",
       "      <td>@wnosi.9924</td>\n",
       "      <td>NaN</td>\n",
       "    </tr>\n",
       "    <tr>\n",
       "      <th>733</th>\n",
       "      <td>@K-Chaannn</td>\n",
       "      <td>NaN</td>\n",
       "    </tr>\n",
       "    <tr>\n",
       "      <th>743</th>\n",
       "      <td>@AditMazbray</td>\n",
       "      <td>NaN</td>\n",
       "    </tr>\n",
       "    <tr>\n",
       "      <th>745</th>\n",
       "      <td>@hartinikandanichanel2135</td>\n",
       "      <td>NaN</td>\n",
       "    </tr>\n",
       "    <tr>\n",
       "      <th>901</th>\n",
       "      <td>@delapan1-9</td>\n",
       "      <td>NaN</td>\n",
       "    </tr>\n",
       "    <tr>\n",
       "      <th>990</th>\n",
       "      <td>@handru_1377</td>\n",
       "      <td>NaN</td>\n",
       "    </tr>\n",
       "    <tr>\n",
       "      <th>2165</th>\n",
       "      <td>@muhammadsyahfi5899</td>\n",
       "      <td>NaN</td>\n",
       "    </tr>\n",
       "    <tr>\n",
       "      <th>2589</th>\n",
       "      <td>@ahadtanipertanian8399</td>\n",
       "      <td>NaN</td>\n",
       "    </tr>\n",
       "    <tr>\n",
       "      <th>2675</th>\n",
       "      <td>@SigitBoki-q5k</td>\n",
       "      <td>NaN</td>\n",
       "    </tr>\n",
       "    <tr>\n",
       "      <th>2819</th>\n",
       "      <td>@Fathirkribo-qh4np</td>\n",
       "      <td>NaN</td>\n",
       "    </tr>\n",
       "    <tr>\n",
       "      <th>3123</th>\n",
       "      <td>@suroyorayasura7045</td>\n",
       "      <td>NaN</td>\n",
       "    </tr>\n",
       "    <tr>\n",
       "      <th>4559</th>\n",
       "      <td>@karsokarso9651</td>\n",
       "      <td>NaN</td>\n",
       "    </tr>\n",
       "    <tr>\n",
       "      <th>4909</th>\n",
       "      <td>@pendekar_hukum111</td>\n",
       "      <td>NaN</td>\n",
       "    </tr>\n",
       "    <tr>\n",
       "      <th>5204</th>\n",
       "      <td>@salehsalh8568</td>\n",
       "      <td>NaN</td>\n",
       "    </tr>\n",
       "    <tr>\n",
       "      <th>5225</th>\n",
       "      <td>@EniSumala</td>\n",
       "      <td>NaN</td>\n",
       "    </tr>\n",
       "    <tr>\n",
       "      <th>5299</th>\n",
       "      <td>@lyaa_4u-4u</td>\n",
       "      <td>NaN</td>\n",
       "    </tr>\n",
       "    <tr>\n",
       "      <th>5346</th>\n",
       "      <td>@Unknownperson_2404</td>\n",
       "      <td>NaN</td>\n",
       "    </tr>\n",
       "    <tr>\n",
       "      <th>5368</th>\n",
       "      <td>@ancacaa22</td>\n",
       "      <td>NaN</td>\n",
       "    </tr>\n",
       "    <tr>\n",
       "      <th>5385</th>\n",
       "      <td>@waqfpro</td>\n",
       "      <td>NaN</td>\n",
       "    </tr>\n",
       "    <tr>\n",
       "      <th>5441</th>\n",
       "      <td>@afdal0177</td>\n",
       "      <td>NaN</td>\n",
       "    </tr>\n",
       "    <tr>\n",
       "      <th>5678</th>\n",
       "      <td>@Jeane-oz6oo</td>\n",
       "      <td>NaN</td>\n",
       "    </tr>\n",
       "    <tr>\n",
       "      <th>5851</th>\n",
       "      <td>@Gm_channel</td>\n",
       "      <td>NaN</td>\n",
       "    </tr>\n",
       "    <tr>\n",
       "      <th>5886</th>\n",
       "      <td>@markuspatabang8793</td>\n",
       "      <td>NaN</td>\n",
       "    </tr>\n",
       "    <tr>\n",
       "      <th>6013</th>\n",
       "      <td>@FighterJak</td>\n",
       "      <td>NaN</td>\n",
       "    </tr>\n",
       "    <tr>\n",
       "      <th>6061</th>\n",
       "      <td>@oppaapid9034</td>\n",
       "      <td>NaN</td>\n",
       "    </tr>\n",
       "    <tr>\n",
       "      <th>6063</th>\n",
       "      <td>@oppaapid9034</td>\n",
       "      <td>NaN</td>\n",
       "    </tr>\n",
       "    <tr>\n",
       "      <th>6136</th>\n",
       "      <td>@HanyaFansBiasa</td>\n",
       "      <td>NaN</td>\n",
       "    </tr>\n",
       "    <tr>\n",
       "      <th>6169</th>\n",
       "      <td>@tomymahtum6175</td>\n",
       "      <td>NaN</td>\n",
       "    </tr>\n",
       "    <tr>\n",
       "      <th>6408</th>\n",
       "      <td>@nenengtarno4425</td>\n",
       "      <td>NaN</td>\n",
       "    </tr>\n",
       "    <tr>\n",
       "      <th>6558</th>\n",
       "      <td>@bismillahirrahmanirrahim8566</td>\n",
       "      <td>NaN</td>\n",
       "    </tr>\n",
       "    <tr>\n",
       "      <th>6847</th>\n",
       "      <td>@Frameuiofficialshort</td>\n",
       "      <td>NaN</td>\n",
       "    </tr>\n",
       "    <tr>\n",
       "      <th>6952</th>\n",
       "      <td>@widynara</td>\n",
       "      <td>NaN</td>\n",
       "    </tr>\n",
       "    <tr>\n",
       "      <th>7190</th>\n",
       "      <td>@Rungkut-k2b</td>\n",
       "      <td>NaN</td>\n",
       "    </tr>\n",
       "    <tr>\n",
       "      <th>7389</th>\n",
       "      <td>@febybybuluxlazada5040</td>\n",
       "      <td>NaN</td>\n",
       "    </tr>\n",
       "    <tr>\n",
       "      <th>7467</th>\n",
       "      <td>@enyefn3435</td>\n",
       "      <td>NaN</td>\n",
       "    </tr>\n",
       "    <tr>\n",
       "      <th>7523</th>\n",
       "      <td>kelly_alwi</td>\n",
       "      <td>NaN</td>\n",
       "    </tr>\n",
       "    <tr>\n",
       "      <th>7527</th>\n",
       "      <td>SibroM117</td>\n",
       "      <td>NaN</td>\n",
       "    </tr>\n",
       "    <tr>\n",
       "      <th>7533</th>\n",
       "      <td>Walangarei13303</td>\n",
       "      <td>NaN</td>\n",
       "    </tr>\n",
       "  </tbody>\n",
       "</table>\n",
       "</div>"
      ],
      "text/plain": [
       "                           username comment\n",
       "380                   @ON55football     NaN\n",
       "552                     @wnosi.9924     NaN\n",
       "733                      @K-Chaannn     NaN\n",
       "743                    @AditMazbray     NaN\n",
       "745       @hartinikandanichanel2135     NaN\n",
       "901                     @delapan1-9     NaN\n",
       "990                    @handru_1377     NaN\n",
       "2165            @muhammadsyahfi5899     NaN\n",
       "2589         @ahadtanipertanian8399     NaN\n",
       "2675                 @SigitBoki-q5k     NaN\n",
       "2819             @Fathirkribo-qh4np     NaN\n",
       "3123            @suroyorayasura7045     NaN\n",
       "4559                @karsokarso9651     NaN\n",
       "4909             @pendekar_hukum111     NaN\n",
       "5204                 @salehsalh8568     NaN\n",
       "5225                     @EniSumala     NaN\n",
       "5299                    @lyaa_4u-4u     NaN\n",
       "5346            @Unknownperson_2404     NaN\n",
       "5368                     @ancacaa22     NaN\n",
       "5385                       @waqfpro     NaN\n",
       "5441                     @afdal0177     NaN\n",
       "5678                   @Jeane-oz6oo     NaN\n",
       "5851                    @Gm_channel     NaN\n",
       "5886            @markuspatabang8793     NaN\n",
       "6013                    @FighterJak     NaN\n",
       "6061                  @oppaapid9034     NaN\n",
       "6063                  @oppaapid9034     NaN\n",
       "6136                @HanyaFansBiasa     NaN\n",
       "6169                @tomymahtum6175     NaN\n",
       "6408               @nenengtarno4425     NaN\n",
       "6558  @bismillahirrahmanirrahim8566     NaN\n",
       "6847          @Frameuiofficialshort     NaN\n",
       "6952                      @widynara     NaN\n",
       "7190                   @Rungkut-k2b     NaN\n",
       "7389         @febybybuluxlazada5040     NaN\n",
       "7467                    @enyefn3435     NaN\n",
       "7523                     kelly_alwi     NaN\n",
       "7527                      SibroM117     NaN\n",
       "7533                Walangarei13303     NaN"
      ]
     },
     "execution_count": 47,
     "metadata": {},
     "output_type": "execute_result"
    }
   ],
   "source": [
    "sentiment_public[sentiment_public['comment'].isnull()]"
   ]
  },
  {
   "cell_type": "code",
   "execution_count": 48,
   "metadata": {},
   "outputs": [],
   "source": [
    "sentiment_public = sentiment_public.dropna()"
   ]
  },
  {
   "cell_type": "code",
   "execution_count": 49,
   "metadata": {},
   "outputs": [
    {
     "data": {
      "text/plain": [
       "0"
      ]
     },
     "execution_count": 49,
     "metadata": {},
     "output_type": "execute_result"
    }
   ],
   "source": [
    "sentiment_public['comment'].isna().sum()\n"
   ]
  },
  {
   "cell_type": "code",
   "execution_count": 50,
   "metadata": {},
   "outputs": [
    {
     "data": {
      "application/vnd.microsoft.datawrangler.viewer.v0+json": {
       "columns": [
        {
         "name": "index",
         "rawType": "int64",
         "type": "integer"
        },
        {
         "name": "username",
         "rawType": "object",
         "type": "string"
        },
        {
         "name": "comment",
         "rawType": "object",
         "type": "string"
        }
       ],
       "conversionMethod": "pd.DataFrame",
       "ref": "f0a30962-0bfd-472d-8037-ade1cc5bbfde",
       "rows": [
        [
         "0",
         "@alvinvinoza",
         "naikin gajinya"
        ],
        [
         "1",
         "@MuklasinMuklasin-k6w",
         "kalo tidak ada hukuman mati sampek kiamat pun negeri ini masi saja ada yg korupsi"
        ],
        [
         "2",
         "@infotodax",
         "gua gak kebayang gaji elu berapa tapi keserakahan lu luar biasa"
        ],
        [
         "3",
         "@febbriyansaputra4132",
         "tolong host nya di support dan di lindungi ini"
        ],
        [
         "4",
         "@chalvit4162",
         "harusnya berita ya kayak begini dibawa santai tapi tajam abang ku"
        ],
        [
         "5",
         "@niutto5910",
         "korupsi di pertamina sudah menjadi budaya mendarah daging di setiap pejabatnya sejak dulu kala tapi baru dibongkar sekarang lebih baik terlambat dari pada tidak bumn dan institusi pemerintah lain juga sama korupnya harus dibongkar semua semoga pemerintahan prabowo benar bisa memberantas korupsi seperti yg dijanjikan"
        ],
        [
         "6",
         "@MuhammadRusmadi-o7k",
         "gila lama jdi terbiasa denger korupsi smpe ratusan triliun sumpah demi tuhan jangankan menuju indonesia emas yg ada menuju indonesia sakaratul maut"
        ],
        [
         "7",
         "@johansigarantang",
         "pria yang menurut gw pemberani ahmed nurmagedov host berita metro tv ini menurutku kreatif sama berani sekali kelihatan siapa yang mendukung dan siapa yang menyembunyikan"
        ],
        [
         "8",
         "@alfath4971",
         "pertamina dan pln harus di selidiki itu rugi terus kpk woi kerja"
        ],
        [
         "9",
         "@Lyvimoon",
         "shesshh beliau terlalu fokus memasak sampai lupa mengatur apinya yang terlalu membara lindungi beliauu jangan sampe pejabat yang baperan dan gak terima dikatain seperti itu menghukum beliau dengan alasan mencerkan nama baik semoag gak ada deh pejabat yang gak tau diri kek gitu otw subrekk"
        ]
       ],
       "shape": {
        "columns": 2,
        "rows": 10
       }
      },
      "text/html": [
       "<div>\n",
       "<style scoped>\n",
       "    .dataframe tbody tr th:only-of-type {\n",
       "        vertical-align: middle;\n",
       "    }\n",
       "\n",
       "    .dataframe tbody tr th {\n",
       "        vertical-align: top;\n",
       "    }\n",
       "\n",
       "    .dataframe thead th {\n",
       "        text-align: right;\n",
       "    }\n",
       "</style>\n",
       "<table border=\"1\" class=\"dataframe\">\n",
       "  <thead>\n",
       "    <tr style=\"text-align: right;\">\n",
       "      <th></th>\n",
       "      <th>username</th>\n",
       "      <th>comment</th>\n",
       "    </tr>\n",
       "  </thead>\n",
       "  <tbody>\n",
       "    <tr>\n",
       "      <th>0</th>\n",
       "      <td>@alvinvinoza</td>\n",
       "      <td>naikin gajinya</td>\n",
       "    </tr>\n",
       "    <tr>\n",
       "      <th>1</th>\n",
       "      <td>@MuklasinMuklasin-k6w</td>\n",
       "      <td>kalo tidak ada hukuman mati sampek kiamat pun ...</td>\n",
       "    </tr>\n",
       "    <tr>\n",
       "      <th>2</th>\n",
       "      <td>@infotodax</td>\n",
       "      <td>gua gak kebayang gaji elu berapa tapi keseraka...</td>\n",
       "    </tr>\n",
       "    <tr>\n",
       "      <th>3</th>\n",
       "      <td>@febbriyansaputra4132</td>\n",
       "      <td>tolong host nya di support dan di lindungi ini</td>\n",
       "    </tr>\n",
       "    <tr>\n",
       "      <th>4</th>\n",
       "      <td>@chalvit4162</td>\n",
       "      <td>harusnya berita ya kayak begini dibawa santai ...</td>\n",
       "    </tr>\n",
       "    <tr>\n",
       "      <th>5</th>\n",
       "      <td>@niutto5910</td>\n",
       "      <td>korupsi di pertamina sudah menjadi budaya mend...</td>\n",
       "    </tr>\n",
       "    <tr>\n",
       "      <th>6</th>\n",
       "      <td>@MuhammadRusmadi-o7k</td>\n",
       "      <td>gila lama jdi terbiasa denger korupsi smpe rat...</td>\n",
       "    </tr>\n",
       "    <tr>\n",
       "      <th>7</th>\n",
       "      <td>@johansigarantang</td>\n",
       "      <td>pria yang menurut gw pemberani ahmed nurmagedo...</td>\n",
       "    </tr>\n",
       "    <tr>\n",
       "      <th>8</th>\n",
       "      <td>@alfath4971</td>\n",
       "      <td>pertamina dan pln harus di selidiki itu rugi t...</td>\n",
       "    </tr>\n",
       "    <tr>\n",
       "      <th>9</th>\n",
       "      <td>@Lyvimoon</td>\n",
       "      <td>shesshh beliau terlalu fokus memasak sampai lu...</td>\n",
       "    </tr>\n",
       "  </tbody>\n",
       "</table>\n",
       "</div>"
      ],
      "text/plain": [
       "                username                                            comment\n",
       "0           @alvinvinoza                                     naikin gajinya\n",
       "1  @MuklasinMuklasin-k6w  kalo tidak ada hukuman mati sampek kiamat pun ...\n",
       "2             @infotodax  gua gak kebayang gaji elu berapa tapi keseraka...\n",
       "3  @febbriyansaputra4132     tolong host nya di support dan di lindungi ini\n",
       "4           @chalvit4162  harusnya berita ya kayak begini dibawa santai ...\n",
       "5            @niutto5910  korupsi di pertamina sudah menjadi budaya mend...\n",
       "6   @MuhammadRusmadi-o7k  gila lama jdi terbiasa denger korupsi smpe rat...\n",
       "7      @johansigarantang  pria yang menurut gw pemberani ahmed nurmagedo...\n",
       "8            @alfath4971  pertamina dan pln harus di selidiki itu rugi t...\n",
       "9              @Lyvimoon  shesshh beliau terlalu fokus memasak sampai lu..."
      ]
     },
     "execution_count": 50,
     "metadata": {},
     "output_type": "execute_result"
    }
   ],
   "source": [
    "sentiment_public = sentiment_public[:10]\n",
    "sentiment_public"
   ]
  },
  {
   "cell_type": "code",
   "execution_count": null,
   "metadata": {},
   "outputs": [
    {
     "data": {
      "application/vnd.microsoft.datawrangler.viewer.v0+json": {
       "columns": [
        {
         "name": "index",
         "rawType": "int64",
         "type": "integer"
        },
        {
         "name": "username",
         "rawType": "object",
         "type": "string"
        },
        {
         "name": "comment",
         "rawType": "object",
         "type": "string"
        },
        {
         "name": "predict",
         "rawType": "object",
         "type": "string"
        }
       ],
       "conversionMethod": "pd.DataFrame",
       "ref": "9ac3059e-b58c-47ce-bb96-8503c619249e",
       "rows": [
        [
         "0",
         "@alvinvinoza",
         "naikin gajinya",
         "Negatif"
        ],
        [
         "1",
         "@MuklasinMuklasin-k6w",
         "kalo tidak ada hukuman mati sampek kiamat pun negeri ini masi saja ada yg korupsi",
         "Negatif"
        ],
        [
         "2",
         "@infotodax",
         "gua gak kebayang gaji elu berapa tapi keserakahan lu luar biasa",
         "Negatif"
        ],
        [
         "3",
         "@febbriyansaputra4132",
         "tolong host nya di support dan di lindungi ini",
         "Negatif"
        ],
        [
         "4",
         "@chalvit4162",
         "harusnya berita ya kayak begini dibawa santai tapi tajam abang ku",
         "Negatif"
        ],
        [
         "5",
         "@niutto5910",
         "korupsi di pertamina sudah menjadi budaya mendarah daging di setiap pejabatnya sejak dulu kala tapi baru dibongkar sekarang lebih baik terlambat dari pada tidak bumn dan institusi pemerintah lain juga sama korupnya harus dibongkar semua semoga pemerintahan prabowo benar bisa memberantas korupsi seperti yg dijanjikan",
         "Negatif"
        ],
        [
         "6",
         "@MuhammadRusmadi-o7k",
         "gila lama jdi terbiasa denger korupsi smpe ratusan triliun sumpah demi tuhan jangankan menuju indonesia emas yg ada menuju indonesia sakaratul maut",
         "Negatif"
        ],
        [
         "7",
         "@johansigarantang",
         "pria yang menurut gw pemberani ahmed nurmagedov host berita metro tv ini menurutku kreatif sama berani sekali kelihatan siapa yang mendukung dan siapa yang menyembunyikan",
         "Netral"
        ],
        [
         "8",
         "@alfath4971",
         "pertamina dan pln harus di selidiki itu rugi terus kpk woi kerja",
         "Negatif"
        ],
        [
         "9",
         "@Lyvimoon",
         "shesshh beliau terlalu fokus memasak sampai lupa mengatur apinya yang terlalu membara lindungi beliauu jangan sampe pejabat yang baperan dan gak terima dikatain seperti itu menghukum beliau dengan alasan mencerkan nama baik semoag gak ada deh pejabat yang gak tau diri kek gitu otw subrekk",
         "Negatif"
        ]
       ],
       "shape": {
        "columns": 3,
        "rows": 10
       }
      },
      "text/html": [
       "<div>\n",
       "<style scoped>\n",
       "    .dataframe tbody tr th:only-of-type {\n",
       "        vertical-align: middle;\n",
       "    }\n",
       "\n",
       "    .dataframe tbody tr th {\n",
       "        vertical-align: top;\n",
       "    }\n",
       "\n",
       "    .dataframe thead th {\n",
       "        text-align: right;\n",
       "    }\n",
       "</style>\n",
       "<table border=\"1\" class=\"dataframe\">\n",
       "  <thead>\n",
       "    <tr style=\"text-align: right;\">\n",
       "      <th></th>\n",
       "      <th>username</th>\n",
       "      <th>comment</th>\n",
       "      <th>predict</th>\n",
       "    </tr>\n",
       "  </thead>\n",
       "  <tbody>\n",
       "    <tr>\n",
       "      <th>0</th>\n",
       "      <td>@alvinvinoza</td>\n",
       "      <td>naikin gajinya</td>\n",
       "      <td>Negatif</td>\n",
       "    </tr>\n",
       "    <tr>\n",
       "      <th>1</th>\n",
       "      <td>@MuklasinMuklasin-k6w</td>\n",
       "      <td>kalo tidak ada hukuman mati sampek kiamat pun ...</td>\n",
       "      <td>Negatif</td>\n",
       "    </tr>\n",
       "    <tr>\n",
       "      <th>2</th>\n",
       "      <td>@infotodax</td>\n",
       "      <td>gua gak kebayang gaji elu berapa tapi keseraka...</td>\n",
       "      <td>Negatif</td>\n",
       "    </tr>\n",
       "    <tr>\n",
       "      <th>3</th>\n",
       "      <td>@febbriyansaputra4132</td>\n",
       "      <td>tolong host nya di support dan di lindungi ini</td>\n",
       "      <td>Negatif</td>\n",
       "    </tr>\n",
       "    <tr>\n",
       "      <th>4</th>\n",
       "      <td>@chalvit4162</td>\n",
       "      <td>harusnya berita ya kayak begini dibawa santai ...</td>\n",
       "      <td>Negatif</td>\n",
       "    </tr>\n",
       "    <tr>\n",
       "      <th>5</th>\n",
       "      <td>@niutto5910</td>\n",
       "      <td>korupsi di pertamina sudah menjadi budaya mend...</td>\n",
       "      <td>Negatif</td>\n",
       "    </tr>\n",
       "    <tr>\n",
       "      <th>6</th>\n",
       "      <td>@MuhammadRusmadi-o7k</td>\n",
       "      <td>gila lama jdi terbiasa denger korupsi smpe rat...</td>\n",
       "      <td>Negatif</td>\n",
       "    </tr>\n",
       "    <tr>\n",
       "      <th>7</th>\n",
       "      <td>@johansigarantang</td>\n",
       "      <td>pria yang menurut gw pemberani ahmed nurmagedo...</td>\n",
       "      <td>Netral</td>\n",
       "    </tr>\n",
       "    <tr>\n",
       "      <th>8</th>\n",
       "      <td>@alfath4971</td>\n",
       "      <td>pertamina dan pln harus di selidiki itu rugi t...</td>\n",
       "      <td>Negatif</td>\n",
       "    </tr>\n",
       "    <tr>\n",
       "      <th>9</th>\n",
       "      <td>@Lyvimoon</td>\n",
       "      <td>shesshh beliau terlalu fokus memasak sampai lu...</td>\n",
       "      <td>Negatif</td>\n",
       "    </tr>\n",
       "  </tbody>\n",
       "</table>\n",
       "</div>"
      ],
      "text/plain": [
       "                username                                            comment  \\\n",
       "0           @alvinvinoza                                     naikin gajinya   \n",
       "1  @MuklasinMuklasin-k6w  kalo tidak ada hukuman mati sampek kiamat pun ...   \n",
       "2             @infotodax  gua gak kebayang gaji elu berapa tapi keseraka...   \n",
       "3  @febbriyansaputra4132     tolong host nya di support dan di lindungi ini   \n",
       "4           @chalvit4162  harusnya berita ya kayak begini dibawa santai ...   \n",
       "5            @niutto5910  korupsi di pertamina sudah menjadi budaya mend...   \n",
       "6   @MuhammadRusmadi-o7k  gila lama jdi terbiasa denger korupsi smpe rat...   \n",
       "7      @johansigarantang  pria yang menurut gw pemberani ahmed nurmagedo...   \n",
       "8            @alfath4971  pertamina dan pln harus di selidiki itu rugi t...   \n",
       "9              @Lyvimoon  shesshh beliau terlalu fokus memasak sampai lu...   \n",
       "\n",
       "   predict  \n",
       "0  Negatif  \n",
       "1  Negatif  \n",
       "2  Negatif  \n",
       "3  Negatif  \n",
       "4  Negatif  \n",
       "5  Negatif  \n",
       "6  Negatif  \n",
       "7   Netral  \n",
       "8  Negatif  \n",
       "9  Negatif  "
      ]
     },
     "execution_count": 51,
     "metadata": {},
     "output_type": "execute_result"
    }
   ],
   "source": [
    "sentiment_public['predict'] = sentiment_public['comment'].apply(lambda comment: predict_func(comment))\n",
    "\n",
    "\n",
    "sentiment_public.to_csv('sentiment_public_pred.csv', index=False)\n",
    "\n",
    "sentiment_public"
   ]
  }
 ],
 "metadata": {
  "kernelspec": {
   "display_name": "Python 3",
   "language": "python",
   "name": "python3"
  },
  "language_info": {
   "codemirror_mode": {
    "name": "ipython",
    "version": 3
   },
   "file_extension": ".py",
   "mimetype": "text/x-python",
   "name": "python",
   "nbconvert_exporter": "python",
   "pygments_lexer": "ipython3",
   "version": "3.12.8"
  }
 },
 "nbformat": 4,
 "nbformat_minor": 2
}
