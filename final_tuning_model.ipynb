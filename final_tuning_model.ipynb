{
 "cells": [
  {
   "cell_type": "code",
   "execution_count": 43,
   "metadata": {},
   "outputs": [],
   "source": [
    "from datasets import load_dataset, ClassLabel, Dataset\n",
    "from transformers import AutoTokenizer, AutoModelForSequenceClassification, TrainingArguments, Trainer\n",
    "from transformers import DataCollatorWithPadding\n",
    "from sklearn.metrics import precision_score, recall_score, confusion_matrix, f1_score,accuracy_score\n",
    "import evaluate\n",
    "import numpy as np\n",
    "import pandas as pd\n"
   ]
  },
  {
   "cell_type": "code",
   "execution_count": 44,
   "metadata": {},
   "outputs": [
    {
     "data": {
      "text/html": [
       "<div>\n",
       "<style scoped>\n",
       "    .dataframe tbody tr th:only-of-type {\n",
       "        vertical-align: middle;\n",
       "    }\n",
       "\n",
       "    .dataframe tbody tr th {\n",
       "        vertical-align: top;\n",
       "    }\n",
       "\n",
       "    .dataframe thead th {\n",
       "        text-align: right;\n",
       "    }\n",
       "</style>\n",
       "<table border=\"1\" class=\"dataframe\">\n",
       "  <thead>\n",
       "    <tr style=\"text-align: right;\">\n",
       "      <th></th>\n",
       "      <th>comment</th>\n",
       "      <th>label</th>\n",
       "    </tr>\n",
       "  </thead>\n",
       "  <tbody>\n",
       "    <tr>\n",
       "      <th>0</th>\n",
       "      <td>seluruh rakyat wajib demo ke dpr  utk memaksa ...</td>\n",
       "      <td>Negative</td>\n",
       "    </tr>\n",
       "    <tr>\n",
       "      <th>1</th>\n",
       "      <td>ah  bentar lgi nicke widyawati nyusul  percaya...</td>\n",
       "      <td>Negative</td>\n",
       "    </tr>\n",
       "    <tr>\n",
       "      <th>2</th>\n",
       "      <td>ahirnya muntah juga mkn duit haram</td>\n",
       "      <td>Negative</td>\n",
       "    </tr>\n",
       "    <tr>\n",
       "      <th>3</th>\n",
       "      <td>mantap pak prabowo  intel mulai kerja  korupto...</td>\n",
       "      <td>Positive</td>\n",
       "    </tr>\n",
       "    <tr>\n",
       "      <th>4</th>\n",
       "      <td>sdh baik dirumah jadi ibu rumah tangga koq mau...</td>\n",
       "      <td>Negative</td>\n",
       "    </tr>\n",
       "  </tbody>\n",
       "</table>\n",
       "</div>"
      ],
      "text/plain": [
       "                                             comment     label\n",
       "0  seluruh rakyat wajib demo ke dpr  utk memaksa ...  Negative\n",
       "1  ah  bentar lgi nicke widyawati nyusul  percaya...  Negative\n",
       "2                 ahirnya muntah juga mkn duit haram  Negative\n",
       "3  mantap pak prabowo  intel mulai kerja  korupto...  Positive\n",
       "4  sdh baik dirumah jadi ibu rumah tangga koq mau...  Negative"
      ]
     },
     "execution_count": 44,
     "metadata": {},
     "output_type": "execute_result"
    }
   ],
   "source": [
    "sentiment = pd.read_csv('sample_cleaning.csv')\n",
    "sentiment.head()"
   ]
  },
  {
   "cell_type": "code",
   "execution_count": 45,
   "metadata": {},
   "outputs": [
    {
     "name": "stdout",
     "output_type": "stream",
     "text": [
      "<class 'pandas.core.frame.DataFrame'>\n",
      "RangeIndex: 400 entries, 0 to 399\n",
      "Data columns (total 2 columns):\n",
      " #   Column   Non-Null Count  Dtype \n",
      "---  ------   --------------  ----- \n",
      " 0   comment  400 non-null    object\n",
      " 1   label    400 non-null    object\n",
      "dtypes: object(2)\n",
      "memory usage: 6.4+ KB\n",
      "None\n"
     ]
    }
   ],
   "source": [
    "print(sentiment.info())"
   ]
  },
  {
   "cell_type": "code",
   "execution_count": 46,
   "metadata": {},
   "outputs": [
    {
     "data": {
      "text/plain": [
       "comment    0\n",
       "label      0\n",
       "dtype: int64"
      ]
     },
     "execution_count": 46,
     "metadata": {},
     "output_type": "execute_result"
    }
   ],
   "source": [
    "sentiment.isna().sum()"
   ]
  },
  {
   "cell_type": "code",
   "execution_count": 47,
   "metadata": {},
   "outputs": [],
   "source": [
    "sentiment_labels = ['Negative', 'Neutral', 'Positive']\n",
    "sentiment = Dataset.from_pandas(sentiment)"
   ]
  },
  {
   "cell_type": "code",
   "execution_count": 48,
   "metadata": {},
   "outputs": [
    {
     "name": "stderr",
     "output_type": "stream",
     "text": [
      "Casting the dataset: 100%|██████████| 400/400 [00:00<00:00, 48710.09 examples/s]"
     ]
    },
    {
     "name": "stdout",
     "output_type": "stream",
     "text": [
      "Dataset({\n",
      "    features: ['comment', 'label'],\n",
      "    num_rows: 400\n",
      "})\n"
     ]
    },
    {
     "name": "stderr",
     "output_type": "stream",
     "text": [
      "\n"
     ]
    }
   ],
   "source": [
    "sentiment = sentiment.cast_column('label', ClassLabel(names=sentiment_labels))\n",
    "print(sentiment)"
   ]
  },
  {
   "cell_type": "code",
   "execution_count": 49,
   "metadata": {},
   "outputs": [],
   "source": [
    "train_val_split = sentiment.train_test_split(\n",
    "    test_size=0.2,\n",
    "    seed=42,\n",
    "    stratify_by_column='label'\n",
    ")\n",
    "train_data = train_val_split['train']\n",
    "val_data = train_val_split['test']"
   ]
  },
  {
   "cell_type": "code",
   "execution_count": 50,
   "metadata": {},
   "outputs": [
    {
     "name": "stderr",
     "output_type": "stream",
     "text": [
      "Map: 100%|██████████| 320/320 [00:00<00:00, 12005.59 examples/s]\n",
      "Map: 100%|██████████| 80/80 [00:00<00:00, 6556.80 examples/s]\n"
     ]
    }
   ],
   "source": [
    "model_name = 'indolem/indobert-base-uncased'\n",
    "tokenizer = AutoTokenizer.from_pretrained(model_name)\n",
    "\n",
    "def tokenize(comments):\n",
    "    comment = comments['comment']\n",
    "    return tokenizer(comment, truncation=True, max_length=512)\n",
    "\n",
    "tokenized_train = train_data.map(tokenize, batched=True)\n",
    "tokenized_val = val_data.map(tokenize, batched=True)"
   ]
  },
  {
   "cell_type": "code",
   "execution_count": 51,
   "metadata": {},
   "outputs": [
    {
     "name": "stdout",
     "output_type": "stream",
     "text": [
      "Dataset({\n",
      "    features: ['comment', 'label', 'input_ids', 'token_type_ids', 'attention_mask'],\n",
      "    num_rows: 320\n",
      "})\n",
      "Dataset({\n",
      "    features: ['comment', 'label', 'input_ids', 'token_type_ids', 'attention_mask'],\n",
      "    num_rows: 80\n",
      "})\n"
     ]
    }
   ],
   "source": [
    "print(tokenized_train)\n",
    "print(tokenized_val)"
   ]
  },
  {
   "cell_type": "code",
   "execution_count": 52,
   "metadata": {},
   "outputs": [],
   "source": [
    "tokenized_train = tokenized_train.rename_column('label', 'labels')\n",
    "tokenized_val = tokenized_val.rename_column('label', 'labels')\n",
    "\n",
    "tokenized_train = tokenized_train.remove_columns('comment')\n",
    "tokenized_val = tokenized_val.remove_columns('comment')\n",
    "\n",
    "tokenized_train.set_format('torch')\n",
    "tokenized_val.set_format('torch')"
   ]
  },
  {
   "cell_type": "code",
   "execution_count": 53,
   "metadata": {},
   "outputs": [
    {
     "name": "stdout",
     "output_type": "stream",
     "text": [
      "Kolom tokenized_train: ['labels', 'input_ids', 'token_type_ids', 'attention_mask']\n",
      "Kolom tokenized_val: ['labels', 'input_ids', 'token_type_ids', 'attention_mask']\n",
      "\n",
      "Jumlah data training: 320\n",
      "Jumlah data validasi: 80\n"
     ]
    }
   ],
   "source": [
    "print(\"Kolom tokenized_train:\", tokenized_train.column_names)\n",
    "print(\"Kolom tokenized_val:\", tokenized_val.column_names)\n",
    "print()\n",
    "print(f\"Jumlah data training: {len(tokenized_train)}\")\n",
    "print(f\"Jumlah data validasi: {len(tokenized_val)}\")"
   ]
  },
  {
   "cell_type": "code",
   "execution_count": 54,
   "metadata": {},
   "outputs": [],
   "source": [
    "id_to_labels = {0: 'Positif', 1: 'Netral', 2: 'Negatif'}\n",
    "label_to_id = {'Positif': 0, 'Netral': 1, 'Negatif': 2}"
   ]
  },
  {
   "cell_type": "code",
   "execution_count": 55,
   "metadata": {},
   "outputs": [
    {
     "name": "stderr",
     "output_type": "stream",
     "text": [
      "Some weights of BertForSequenceClassification were not initialized from the model checkpoint at indolem/indobert-base-uncased and are newly initialized: ['classifier.bias', 'classifier.weight']\n",
      "You should probably TRAIN this model on a down-stream task to be able to use it for predictions and inference.\n"
     ]
    }
   ],
   "source": [
    "model = AutoModelForSequenceClassification.from_pretrained(\n",
    "    model_name,\n",
    "    num_labels=3,\n",
    "    id2label=id_to_labels,\n",
    "    label2id=label_to_id\n",
    ")"
   ]
  },
  {
   "cell_type": "code",
   "execution_count": 56,
   "metadata": {},
   "outputs": [
    {
     "data": {
      "text/plain": [
       "{'comment': 'seluruh rakyat wajib demo ke dpr  utk memaksa dpr utk merevisi undang koruptor  rakyat menggugat',\n",
       " 'label': 0}"
      ]
     },
     "execution_count": 56,
     "metadata": {},
     "output_type": "execute_result"
    }
   ],
   "source": [
    "sample = sentiment[0]\n",
    "sample"
   ]
  },
  {
   "cell_type": "code",
   "execution_count": 57,
   "metadata": {},
   "outputs": [],
   "source": [
    "data_collocator = DataCollatorWithPadding(tokenizer=tokenizer)"
   ]
  },
  {
   "cell_type": "code",
   "execution_count": 58,
   "metadata": {},
   "outputs": [],
   "source": [
    "def compute_metrics(eval_pred):\n",
    "    logits, labels = eval_pred\n",
    "    preds = np.argmax(logits, axis=-1)  # Convert logits to predicted class indices\n",
    "    \n",
    "    # Calculate metrics\n",
    "    accuracy = accuracy_score(labels, preds).item()\n",
    "    f1 = f1_score(labels, preds, average=\"weighted\").item()\n",
    "    precision = precision_score(labels, preds, average=\"weighted\").item()\n",
    "    recall = recall_score(labels, preds, average=\"weighted\").item()\n",
    "    \n",
    "    # Return all metrics as a dictionary\n",
    "    return {\n",
    "        \"accuracy\": accuracy,\n",
    "        \"F1\": f1,\n",
    "        \"precision\": precision,\n",
    "        \"recall\": recall\n",
    "    }"
   ]
  },
  {
   "cell_type": "code",
   "execution_count": 59,
   "metadata": {},
   "outputs": [
    {
     "name": "stderr",
     "output_type": "stream",
     "text": [
      "c:\\Users\\alber\\AppData\\Local\\Programs\\Python\\Python312\\Lib\\site-packages\\transformers\\training_args.py:1611: FutureWarning: `evaluation_strategy` is deprecated and will be removed in version 4.46 of 🤗 Transformers. Use `eval_strategy` instead\n",
      "  warnings.warn(\n"
     ]
    }
   ],
   "source": [
    "# Configure training arguments\n",
    "training_args = TrainingArguments(\n",
    "    output_dir=\"tuned_indobert_sentiment\",\n",
    "    learning_rate=2e-5,\n",
    "    per_device_train_batch_size=16,\n",
    "    per_device_eval_batch_size=8,\n",
    "    num_train_epochs=30,\n",
    "    weight_decay=0.01,\n",
    "    evaluation_strategy=\"epoch\",\n",
    "    save_strategy=\"epoch\",\n",
    "    load_best_model_at_end=True,\n",
    "    metric_for_best_model=\"F1\",  # Use F1 as the primary metric\n",
    "    save_total_limit=1,\n",
    "    logging_dir=\"./tuned_indobert_for-sentiment/logs\",\n",
    "    logging_strategy=\"epoch\"\n",
    ")"
   ]
  },
  {
   "cell_type": "code",
   "execution_count": 60,
   "metadata": {},
   "outputs": [
    {
     "name": "stderr",
     "output_type": "stream",
     "text": [
      "C:\\Users\\alber\\AppData\\Local\\Temp\\ipykernel_7644\\2583125420.py:2: FutureWarning: `tokenizer` is deprecated and will be removed in version 5.0.0 for `Trainer.__init__`. Use `processing_class` instead.\n",
      "  trainer = Trainer(\n"
     ]
    }
   ],
   "source": [
    "# Initialize Trainer\n",
    "trainer = Trainer(\n",
    "    model=model,\n",
    "    args=training_args,\n",
    "    train_dataset=tokenized_train,\n",
    "    eval_dataset=tokenized_val,\n",
    "    tokenizer=tokenizer,\n",
    "    data_collator=data_collocator,  # Ensure this is defined (e.g., DataCollatorWithPadding)\n",
    "    compute_metrics=compute_metrics  # Use the corrected function\n",
    ")"
   ]
  },
  {
   "cell_type": "code",
   "execution_count": 61,
   "metadata": {},
   "outputs": [
    {
     "data": {
      "text/html": [
       "\n",
       "    <div>\n",
       "      \n",
       "      <progress value='600' max='600' style='width:300px; height:20px; vertical-align: middle;'></progress>\n",
       "      [600/600 39:15, Epoch 30/30]\n",
       "    </div>\n",
       "    <table border=\"1\" class=\"dataframe\">\n",
       "  <thead>\n",
       " <tr style=\"text-align: left;\">\n",
       "      <th>Epoch</th>\n",
       "      <th>Training Loss</th>\n",
       "      <th>Validation Loss</th>\n",
       "      <th>Accuracy</th>\n",
       "      <th>F1</th>\n",
       "      <th>Precision</th>\n",
       "      <th>Recall</th>\n",
       "    </tr>\n",
       "  </thead>\n",
       "  <tbody>\n",
       "    <tr>\n",
       "      <td>1</td>\n",
       "      <td>0.814300</td>\n",
       "      <td>0.747208</td>\n",
       "      <td>0.737500</td>\n",
       "      <td>0.626079</td>\n",
       "      <td>0.543906</td>\n",
       "      <td>0.737500</td>\n",
       "    </tr>\n",
       "    <tr>\n",
       "      <td>2</td>\n",
       "      <td>0.744700</td>\n",
       "      <td>0.722386</td>\n",
       "      <td>0.737500</td>\n",
       "      <td>0.626079</td>\n",
       "      <td>0.543906</td>\n",
       "      <td>0.737500</td>\n",
       "    </tr>\n",
       "    <tr>\n",
       "      <td>3</td>\n",
       "      <td>0.724400</td>\n",
       "      <td>0.711192</td>\n",
       "      <td>0.737500</td>\n",
       "      <td>0.626079</td>\n",
       "      <td>0.543906</td>\n",
       "      <td>0.737500</td>\n",
       "    </tr>\n",
       "    <tr>\n",
       "      <td>4</td>\n",
       "      <td>0.694200</td>\n",
       "      <td>0.655331</td>\n",
       "      <td>0.750000</td>\n",
       "      <td>0.653830</td>\n",
       "      <td>0.713291</td>\n",
       "      <td>0.750000</td>\n",
       "    </tr>\n",
       "    <tr>\n",
       "      <td>5</td>\n",
       "      <td>0.648900</td>\n",
       "      <td>0.651294</td>\n",
       "      <td>0.737500</td>\n",
       "      <td>0.626079</td>\n",
       "      <td>0.543906</td>\n",
       "      <td>0.737500</td>\n",
       "    </tr>\n",
       "    <tr>\n",
       "      <td>6</td>\n",
       "      <td>0.620900</td>\n",
       "      <td>0.803349</td>\n",
       "      <td>0.737500</td>\n",
       "      <td>0.626079</td>\n",
       "      <td>0.543906</td>\n",
       "      <td>0.737500</td>\n",
       "    </tr>\n",
       "    <tr>\n",
       "      <td>7</td>\n",
       "      <td>0.535400</td>\n",
       "      <td>0.602306</td>\n",
       "      <td>0.750000</td>\n",
       "      <td>0.669669</td>\n",
       "      <td>0.663853</td>\n",
       "      <td>0.750000</td>\n",
       "    </tr>\n",
       "    <tr>\n",
       "      <td>8</td>\n",
       "      <td>0.466600</td>\n",
       "      <td>0.648831</td>\n",
       "      <td>0.775000</td>\n",
       "      <td>0.714645</td>\n",
       "      <td>0.751583</td>\n",
       "      <td>0.775000</td>\n",
       "    </tr>\n",
       "    <tr>\n",
       "      <td>9</td>\n",
       "      <td>0.401300</td>\n",
       "      <td>0.709336</td>\n",
       "      <td>0.775000</td>\n",
       "      <td>0.714645</td>\n",
       "      <td>0.751583</td>\n",
       "      <td>0.775000</td>\n",
       "    </tr>\n",
       "    <tr>\n",
       "      <td>10</td>\n",
       "      <td>0.340500</td>\n",
       "      <td>0.643240</td>\n",
       "      <td>0.787500</td>\n",
       "      <td>0.735085</td>\n",
       "      <td>0.740126</td>\n",
       "      <td>0.787500</td>\n",
       "    </tr>\n",
       "    <tr>\n",
       "      <td>11</td>\n",
       "      <td>0.317100</td>\n",
       "      <td>0.876560</td>\n",
       "      <td>0.775000</td>\n",
       "      <td>0.714645</td>\n",
       "      <td>0.751583</td>\n",
       "      <td>0.775000</td>\n",
       "    </tr>\n",
       "    <tr>\n",
       "      <td>12</td>\n",
       "      <td>0.192800</td>\n",
       "      <td>0.823848</td>\n",
       "      <td>0.800000</td>\n",
       "      <td>0.757955</td>\n",
       "      <td>0.775347</td>\n",
       "      <td>0.800000</td>\n",
       "    </tr>\n",
       "    <tr>\n",
       "      <td>13</td>\n",
       "      <td>0.168100</td>\n",
       "      <td>0.755248</td>\n",
       "      <td>0.812500</td>\n",
       "      <td>0.788546</td>\n",
       "      <td>0.791056</td>\n",
       "      <td>0.812500</td>\n",
       "    </tr>\n",
       "    <tr>\n",
       "      <td>14</td>\n",
       "      <td>0.115100</td>\n",
       "      <td>0.815641</td>\n",
       "      <td>0.762500</td>\n",
       "      <td>0.757833</td>\n",
       "      <td>0.754284</td>\n",
       "      <td>0.762500</td>\n",
       "    </tr>\n",
       "    <tr>\n",
       "      <td>15</td>\n",
       "      <td>0.109900</td>\n",
       "      <td>0.968218</td>\n",
       "      <td>0.825000</td>\n",
       "      <td>0.798974</td>\n",
       "      <td>0.827143</td>\n",
       "      <td>0.825000</td>\n",
       "    </tr>\n",
       "    <tr>\n",
       "      <td>16</td>\n",
       "      <td>0.086800</td>\n",
       "      <td>1.002524</td>\n",
       "      <td>0.800000</td>\n",
       "      <td>0.770467</td>\n",
       "      <td>0.766115</td>\n",
       "      <td>0.800000</td>\n",
       "    </tr>\n",
       "    <tr>\n",
       "      <td>17</td>\n",
       "      <td>0.134500</td>\n",
       "      <td>1.082428</td>\n",
       "      <td>0.812500</td>\n",
       "      <td>0.794700</td>\n",
       "      <td>0.788063</td>\n",
       "      <td>0.812500</td>\n",
       "    </tr>\n",
       "    <tr>\n",
       "      <td>18</td>\n",
       "      <td>0.061700</td>\n",
       "      <td>1.108575</td>\n",
       "      <td>0.812500</td>\n",
       "      <td>0.787572</td>\n",
       "      <td>0.793199</td>\n",
       "      <td>0.812500</td>\n",
       "    </tr>\n",
       "    <tr>\n",
       "      <td>19</td>\n",
       "      <td>0.081300</td>\n",
       "      <td>1.257097</td>\n",
       "      <td>0.812500</td>\n",
       "      <td>0.780299</td>\n",
       "      <td>0.807465</td>\n",
       "      <td>0.812500</td>\n",
       "    </tr>\n",
       "    <tr>\n",
       "      <td>20</td>\n",
       "      <td>0.105500</td>\n",
       "      <td>1.155280</td>\n",
       "      <td>0.825000</td>\n",
       "      <td>0.798319</td>\n",
       "      <td>0.808261</td>\n",
       "      <td>0.825000</td>\n",
       "    </tr>\n",
       "    <tr>\n",
       "      <td>21</td>\n",
       "      <td>0.054300</td>\n",
       "      <td>1.268139</td>\n",
       "      <td>0.787500</td>\n",
       "      <td>0.771538</td>\n",
       "      <td>0.780599</td>\n",
       "      <td>0.787500</td>\n",
       "    </tr>\n",
       "    <tr>\n",
       "      <td>22</td>\n",
       "      <td>0.097000</td>\n",
       "      <td>1.243394</td>\n",
       "      <td>0.787500</td>\n",
       "      <td>0.771538</td>\n",
       "      <td>0.780599</td>\n",
       "      <td>0.787500</td>\n",
       "    </tr>\n",
       "    <tr>\n",
       "      <td>23</td>\n",
       "      <td>0.025900</td>\n",
       "      <td>1.229378</td>\n",
       "      <td>0.812500</td>\n",
       "      <td>0.778910</td>\n",
       "      <td>0.799965</td>\n",
       "      <td>0.812500</td>\n",
       "    </tr>\n",
       "    <tr>\n",
       "      <td>24</td>\n",
       "      <td>0.026200</td>\n",
       "      <td>1.118058</td>\n",
       "      <td>0.825000</td>\n",
       "      <td>0.806055</td>\n",
       "      <td>0.819761</td>\n",
       "      <td>0.825000</td>\n",
       "    </tr>\n",
       "    <tr>\n",
       "      <td>25</td>\n",
       "      <td>0.041700</td>\n",
       "      <td>1.307632</td>\n",
       "      <td>0.825000</td>\n",
       "      <td>0.798266</td>\n",
       "      <td>0.819405</td>\n",
       "      <td>0.825000</td>\n",
       "    </tr>\n",
       "    <tr>\n",
       "      <td>26</td>\n",
       "      <td>0.074600</td>\n",
       "      <td>1.310181</td>\n",
       "      <td>0.825000</td>\n",
       "      <td>0.798266</td>\n",
       "      <td>0.819405</td>\n",
       "      <td>0.825000</td>\n",
       "    </tr>\n",
       "    <tr>\n",
       "      <td>27</td>\n",
       "      <td>0.007700</td>\n",
       "      <td>1.289610</td>\n",
       "      <td>0.825000</td>\n",
       "      <td>0.798266</td>\n",
       "      <td>0.819405</td>\n",
       "      <td>0.825000</td>\n",
       "    </tr>\n",
       "    <tr>\n",
       "      <td>28</td>\n",
       "      <td>0.026900</td>\n",
       "      <td>1.282506</td>\n",
       "      <td>0.825000</td>\n",
       "      <td>0.798266</td>\n",
       "      <td>0.819405</td>\n",
       "      <td>0.825000</td>\n",
       "    </tr>\n",
       "    <tr>\n",
       "      <td>29</td>\n",
       "      <td>0.020700</td>\n",
       "      <td>1.212654</td>\n",
       "      <td>0.825000</td>\n",
       "      <td>0.798266</td>\n",
       "      <td>0.819405</td>\n",
       "      <td>0.825000</td>\n",
       "    </tr>\n",
       "    <tr>\n",
       "      <td>30</td>\n",
       "      <td>0.040800</td>\n",
       "      <td>1.223335</td>\n",
       "      <td>0.825000</td>\n",
       "      <td>0.798266</td>\n",
       "      <td>0.819405</td>\n",
       "      <td>0.825000</td>\n",
       "    </tr>\n",
       "  </tbody>\n",
       "</table><p>"
      ],
      "text/plain": [
       "<IPython.core.display.HTML object>"
      ]
     },
     "metadata": {},
     "output_type": "display_data"
    },
    {
     "name": "stderr",
     "output_type": "stream",
     "text": [
      "c:\\Users\\alber\\AppData\\Local\\Programs\\Python\\Python312\\Lib\\site-packages\\sklearn\\metrics\\_classification.py:1344: UndefinedMetricWarning: Precision is ill-defined and being set to 0.0 in labels with no predicted samples. Use `zero_division` parameter to control this behavior.\n",
      "  _warn_prf(average, modifier, msg_start, len(result))\n",
      "c:\\Users\\alber\\AppData\\Local\\Programs\\Python\\Python312\\Lib\\site-packages\\sklearn\\metrics\\_classification.py:1344: UndefinedMetricWarning: Precision is ill-defined and being set to 0.0 in labels with no predicted samples. Use `zero_division` parameter to control this behavior.\n",
      "  _warn_prf(average, modifier, msg_start, len(result))\n",
      "c:\\Users\\alber\\AppData\\Local\\Programs\\Python\\Python312\\Lib\\site-packages\\sklearn\\metrics\\_classification.py:1344: UndefinedMetricWarning: Precision is ill-defined and being set to 0.0 in labels with no predicted samples. Use `zero_division` parameter to control this behavior.\n",
      "  _warn_prf(average, modifier, msg_start, len(result))\n",
      "c:\\Users\\alber\\AppData\\Local\\Programs\\Python\\Python312\\Lib\\site-packages\\sklearn\\metrics\\_classification.py:1344: UndefinedMetricWarning: Precision is ill-defined and being set to 0.0 in labels with no predicted samples. Use `zero_division` parameter to control this behavior.\n",
      "  _warn_prf(average, modifier, msg_start, len(result))\n",
      "c:\\Users\\alber\\AppData\\Local\\Programs\\Python\\Python312\\Lib\\site-packages\\sklearn\\metrics\\_classification.py:1344: UndefinedMetricWarning: Precision is ill-defined and being set to 0.0 in labels with no predicted samples. Use `zero_division` parameter to control this behavior.\n",
      "  _warn_prf(average, modifier, msg_start, len(result))\n",
      "c:\\Users\\alber\\AppData\\Local\\Programs\\Python\\Python312\\Lib\\site-packages\\sklearn\\metrics\\_classification.py:1344: UndefinedMetricWarning: Precision is ill-defined and being set to 0.0 in labels with no predicted samples. Use `zero_division` parameter to control this behavior.\n",
      "  _warn_prf(average, modifier, msg_start, len(result))\n",
      "c:\\Users\\alber\\AppData\\Local\\Programs\\Python\\Python312\\Lib\\site-packages\\sklearn\\metrics\\_classification.py:1344: UndefinedMetricWarning: Precision is ill-defined and being set to 0.0 in labels with no predicted samples. Use `zero_division` parameter to control this behavior.\n",
      "  _warn_prf(average, modifier, msg_start, len(result))\n"
     ]
    },
    {
     "name": "stdout",
     "output_type": "stream",
     "text": [
      "Evaluasi pada data validasi:\n"
     ]
    },
    {
     "data": {
      "text/html": [],
      "text/plain": [
       "<IPython.core.display.HTML object>"
      ]
     },
     "metadata": {},
     "output_type": "display_data"
    },
    {
     "name": "stdout",
     "output_type": "stream",
     "text": [
      "Hasil Evaluasi: {'eval_loss': 1.1180578470230103, 'eval_accuracy': 0.825, 'eval_F1': 0.806055493063367, 'eval_precision': 0.8197610294117649, 'eval_recall': 0.825, 'eval_runtime': 3.0078, 'eval_samples_per_second': 26.598, 'eval_steps_per_second': 3.325, 'epoch': 30.0}\n"
     ]
    }
   ],
   "source": [
    "# 11. Jalankan training\n",
    "trainer.train() \n",
    "\n",
    "# 12. Evaluasi akhir\n",
    "print(\"Evaluasi pada data validasi:\")\n",
    "results = trainer.evaluate()\n",
    "print(f\"Hasil Evaluasi: {results}\")"
   ]
  },
  {
   "cell_type": "code",
   "execution_count": 65,
   "metadata": {},
   "outputs": [
    {
     "data": {
      "text/html": [],
      "text/plain": [
       "<IPython.core.display.HTML object>"
      ]
     },
     "metadata": {},
     "output_type": "display_data"
    },
    {
     "data": {
      "image/png": "[encoded data removed]",
      "text/plain": [
       "<Figure size 1000x800 with 2 Axes>"
      ]
     },
     "metadata": {},
     "output_type": "display_data"
    }
   ],
   "source": [
    "import seaborn as sns\n",
    "import matplotlib.pyplot as plt\n",
    "\n",
    "\n",
    "predict = trainer.predict(tokenized_val)\n",
    "logits = np.argmax(predict.predictions, axis=-1)\n",
    "labels = predict.label_ids\n",
    "\n",
    "id_to_labels = {0: \"Negatif\", 1: \"Netral\", 2: \"Positif\"}\n",
    "xticklabels = [id_to_labels[i] for i in range(len(id_to_labels))]\n",
    "yticklabels = [id_to_labels[i] for i in range(len(id_to_labels))]\n",
    "\n",
    "cm = confusion_matrix(labels, logits)\n",
    "\n",
    "plt.figure(figsize=(10, 8))\n",
    "sns.heatmap(cm, annot=True, fmt=\"d\", cmap=\"Blues\", xticklabels=xticklabels, yticklabels=yticklabels)\n",
    "plt.xlabel(\"Predicted\")\n",
    "plt.ylabel(\"True\")\n",
    "plt.title(\"Confusion Matrix\")\n",
    "plt.show()"
   ]
  }
 ],
 "metadata": {
  "kernelspec": {
   "display_name": "Python 3",
   "language": "python",
   "name": "python3"
  },
  "language_info": {
   "codemirror_mode": {
    "name": "ipython",
    "version": 3
   },
   "file_extension": ".py",
   "mimetype": "text/x-python",
   "name": "python",
   "nbconvert_exporter": "python",
   "pygments_lexer": "ipython3",
   "version": "3.12.8"
  }
 },
 "nbformat": 4,
 "nbformat_minor": 2
}
