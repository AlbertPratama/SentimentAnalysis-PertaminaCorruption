{
 "cells": [
  {
   "cell_type": "code",
   "execution_count": 28,
   "metadata": {},
   "outputs": [],
   "source": [
    "import pandas as pd\n",
    "import numpy as np\n",
    "import string\n",
    "import re\n",
    "\n",
    "from datasets import load_dataset, ClassLabel\n",
    "\n",
    "from nlp_id.stopword import StopWord\n",
    "from nlp_id.tokenizer import Tokenizer\n",
    "from nlp_id.lemmatizer import Lemmatizer\n",
    "\n",
    "from Sastrawi.Stemmer.StemmerFactory import StemmerFactory\n",
    "from Sastrawi.StopWordRemover.StopWordRemoverFactory import StopWordRemoverFactory"
   ]
  },
  {
   "cell_type": "markdown",
   "metadata": {},
   "source": [
    "Import bahasa baku dan Sarcastic comments"
   ]
  },
  {
   "cell_type": "code",
   "execution_count": 29,
   "metadata": {},
   "outputs": [],
   "source": [
    "# formal_words_id = load_dataset('theonlydo/indonesia-slang')\n",
    "# print(formal_words_id['train'])\n",
    "\n",
    "\n",
    "# # sarcasm_id = load_dataset('w11wo/twitter_indonesia_sarcastic')\n",
    "# # print(sarcasm_id)"
   ]
  },
  {
   "cell_type": "code",
   "execution_count": 30,
   "metadata": {},
   "outputs": [
    {
     "data": {
      "text/plain": [
       "DatasetDict({\n",
       "    train: Dataset({\n",
       "        features: ['text', 'label'],\n",
       "        num_rows: 2472\n",
       "    })\n",
       "})"
      ]
     },
     "execution_count": 30,
     "metadata": {},
     "output_type": "execute_result"
    }
   ],
   "source": [
    "sentimen_telecommunication = load_dataset(\"dwisaji/indonesia-telecomunication-sentiment-dataset\")\n",
    "sentimen_telecommunication"
   ]
  },
  {
   "cell_type": "code",
   "execution_count": 31,
   "metadata": {},
   "outputs": [
    {
     "data": {
      "text/html": [
       "<div>\n",
       "<style scoped>\n",
       "    .dataframe tbody tr th:only-of-type {\n",
       "        vertical-align: middle;\n",
       "    }\n",
       "\n",
       "    .dataframe tbody tr th {\n",
       "        vertical-align: top;\n",
       "    }\n",
       "\n",
       "    .dataframe thead th {\n",
       "        text-align: right;\n",
       "    }\n",
       "</style>\n",
       "<table border=\"1\" class=\"dataframe\">\n",
       "  <thead>\n",
       "    <tr style=\"text-align: right;\">\n",
       "      <th></th>\n",
       "      <th>text</th>\n",
       "      <th>label</th>\n",
       "    </tr>\n",
       "  </thead>\n",
       "  <tbody>\n",
       "    <tr>\n",
       "      <th>0</th>\n",
       "      <td>pastikan internet sobat lancar</td>\n",
       "      <td>0</td>\n",
       "    </tr>\n",
       "    <tr>\n",
       "      <th>1</th>\n",
       "      <td>spesial paket on aktif th cuma rb total kuota ...</td>\n",
       "      <td>0</td>\n",
       "    </tr>\n",
       "    <tr>\n",
       "      <th>2</th>\n",
       "      <td>oi ngerti bahasa indonesia kan pokoknya sampe ...</td>\n",
       "      <td>2</td>\n",
       "    </tr>\n",
       "    <tr>\n",
       "      <th>3</th>\n",
       "      <td>hallo kak kuota &amp;amp</td>\n",
       "      <td>0</td>\n",
       "    </tr>\n",
       "    <tr>\n",
       "      <th>4</th>\n",
       "      <td>hai kak alfiyan maaf terkait akses internet la...</td>\n",
       "      <td>0</td>\n",
       "    </tr>\n",
       "  </tbody>\n",
       "</table>\n",
       "</div>"
      ],
      "text/plain": [
       "                                                text  label\n",
       "0                     pastikan internet sobat lancar      0\n",
       "1  spesial paket on aktif th cuma rb total kuota ...      0\n",
       "2  oi ngerti bahasa indonesia kan pokoknya sampe ...      2\n",
       "3                               hallo kak kuota &amp      0\n",
       "4  hai kak alfiyan maaf terkait akses internet la...      0"
      ]
     },
     "execution_count": 31,
     "metadata": {},
     "output_type": "execute_result"
    }
   ],
   "source": [
    "df_sentimen_telecommunication = sentimen_telecommunication['train'].to_pandas()\n",
    "df_sentimen_telecommunication.head()"
   ]
  },
  {
   "cell_type": "code",
   "execution_count": 32,
   "metadata": {},
   "outputs": [
    {
     "name": "stdout",
     "output_type": "stream",
     "text": [
      "<class 'pandas.core.frame.DataFrame'>\n",
      "RangeIndex: 2472 entries, 0 to 2471\n",
      "Data columns (total 2 columns):\n",
      " #   Column  Non-Null Count  Dtype \n",
      "---  ------  --------------  ----- \n",
      " 0   text    2472 non-null   object\n",
      " 1   label   2472 non-null   int64 \n",
      "dtypes: int64(1), object(1)\n",
      "memory usage: 38.8+ KB\n",
      "None\n",
      "\n",
      "Missing Values: \n",
      " text     0\n",
      "label    0\n",
      "dtype: int64\n"
     ]
    }
   ],
   "source": [
    "print(df_sentimen_telecommunication.info())\n",
    "print('\\nMissing Values: \\n',df_sentimen_telecommunication.isna().sum())"
   ]
  },
  {
   "cell_type": "markdown",
   "metadata": {},
   "source": [
    "### convert corpus to lower case"
   ]
  },
  {
   "cell_type": "code",
   "execution_count": 33,
   "metadata": {},
   "outputs": [
    {
     "data": {
      "text/plain": [
       "0                          pastikan internet sobat lancar\n",
       "1       spesial paket on aktif th cuma rb total kuota ...\n",
       "2       oi ngerti bahasa indonesia kan pokoknya sampe ...\n",
       "3                                    hallo kak kuota &amp\n",
       "4       hai kak alfiyan maaf terkait akses internet la...\n",
       "                              ...                        \n",
       "2467      baru tau telkomsel jaringannya cepet kayak gini\n",
       "2468    hai kak put maaf banget ya terkait sinyal lema...\n",
       "2469    pagi admin mohon bantuan nomor hp dipakai meng...\n",
       "2470    halooo mengisi paket data dana terpotong tp ak...\n",
       "2471    prediksi peandingan bola bayern munchen vs uni...\n",
       "Name: text, Length: 2472, dtype: object"
      ]
     },
     "execution_count": 33,
     "metadata": {},
     "output_type": "execute_result"
    }
   ],
   "source": [
    "df_sentimen_telecommunication['text'] = df_sentimen_telecommunication['text'].apply(lambda content: \" \".join(words.lower() for words in content.split()))\n",
    "df_sentimen_telecommunication['text']"
   ]
  },
  {
   "cell_type": "markdown",
   "metadata": {},
   "source": [
    "## Cleaning mark quotion etc."
   ]
  },
  {
   "cell_type": "code",
   "execution_count": 34,
   "metadata": {},
   "outputs": [],
   "source": [
    "tokenizer = Tokenizer()\n",
    "stopword = StopWord()\n",
    "lemmatizer = Lemmatizer()"
   ]
  },
  {
   "cell_type": "code",
   "execution_count": 35,
   "metadata": {},
   "outputs": [],
   "source": [
    "import re\n",
    "import string\n",
    "\n",
    "def clean_mark(data):\n",
    "    # Menghapus mention (@username)\n",
    "    data = re.sub(r'@[A-Za-z0-9]+', '', data)\n",
    "    \n",
    "    # Menghapus hashtag (#hashtag)\n",
    "    data = re.sub(r'#[A-Za-z0-9]+', '', data)\n",
    "    \n",
    "    # Menghapus URL\n",
    "    data = re.sub(r'http\\S+', '', data)\n",
    "    \n",
    "    # Menghapus angka\n",
    "    data = re.sub(r'[0-9]+', '', data)\n",
    "\n",
    "    # Menghapus RT (retweet)\n",
    "    data = re.sub(r'RT\\s+', '', data)\n",
    "    \n",
    "    # Menghapus karakter non-huruf dan non-angka\n",
    "    data = re.sub(r'[^A-Za-z0-9]', ' ', data)\n",
    "\n",
    "    # Menghapus karakter yang berulang lebih dari dua kali\n",
    "    data = re.sub(r'(.)\\1+', r'\\1\\1', data)\n",
    "    \n",
    "    # Menghapus duplikasi kata berturut-turut\n",
    "    data = re.sub(r'\\b(\\w+)( \\1\\b)+', r'\\1', data)\n",
    "    \n",
    "    # Menghapus tanda baca berturut-turut\n",
    "    data = re.sub(r'[\\?\\.\\!]+(?=[\\?.\\!])', '', data)\n",
    "    \n",
    "    # Menghapus tanda baca\n",
    "    data = data.translate(str.maketrans('', '', string.punctuation))\n",
    "    \n",
    "    # Menghapus spasi di awal dan akhir\n",
    "    data = data.strip()\n",
    "    \n",
    "    return data\n",
    "\n",
    "\n",
    "def remove_emojis(text):\n",
    "    emoji_pattern = re.compile(\n",
    "        u'['\n",
    "        u'\\U0001F600-\\U0001F64F'  # emoticons\n",
    "        u'\\U0001F300-\\U0001F5FF'  # symbol\n",
    "        u'\\U0001F680-\\U0001F6FF'  # transports and map\n",
    "        u'\\U0001F700-\\U0001F77F'  # alchemist symbols\n",
    "        u'\\U0001F780-\\U0001F7FF'  # geometry symbols\n",
    "        u'\\U0001F800-\\U0001F8FF'  # additional symbols\n",
    "        u'\\U0001F900-\\U0001F9FF'  # faces, hands, etc.\n",
    "        u'\\U0001FA00-\\U0001FA6F'  # additional faces\n",
    "        u'\\U0001FA70-\\U0001FAFF'  # additional symbols\n",
    "        u'\\U00002702-\\U000027B0'  # hand gestures, symbols\n",
    "        u'\\U000024C2-\\U0001F251'  # general emojis\n",
    "        u'\\U0001F004-\\U0001F0CF'  # playing card symbols\n",
    "        u'\\U0001F000-\\U0001F02F'  # Mahjong\n",
    "        u'\\U0001F1E0-\\U0001F1FF'  # Flags\n",
    "        u'\\U0001F200-\\U0001F251'  # Enclosed characters\n",
    "        u']', re.UNICODE)\n",
    "    \n",
    "    return re.sub(emoji_pattern, '', text)\n"
   ]
  },
  {
   "cell_type": "code",
   "execution_count": 36,
   "metadata": {},
   "outputs": [
    {
     "data": {
      "text/html": [
       "<div>\n",
       "<style scoped>\n",
       "    .dataframe tbody tr th:only-of-type {\n",
       "        vertical-align: middle;\n",
       "    }\n",
       "\n",
       "    .dataframe tbody tr th {\n",
       "        vertical-align: top;\n",
       "    }\n",
       "\n",
       "    .dataframe thead th {\n",
       "        text-align: right;\n",
       "    }\n",
       "</style>\n",
       "<table border=\"1\" class=\"dataframe\">\n",
       "  <thead>\n",
       "    <tr style=\"text-align: right;\">\n",
       "      <th></th>\n",
       "      <th>text</th>\n",
       "      <th>label</th>\n",
       "    </tr>\n",
       "  </thead>\n",
       "  <tbody>\n",
       "    <tr>\n",
       "      <th>0</th>\n",
       "      <td>pastikan internet sobat lancar</td>\n",
       "      <td>0</td>\n",
       "    </tr>\n",
       "    <tr>\n",
       "      <th>1</th>\n",
       "      <td>spesial paket on aktif th cuma rb total kuota ...</td>\n",
       "      <td>0</td>\n",
       "    </tr>\n",
       "    <tr>\n",
       "      <th>2</th>\n",
       "      <td>oi ngerti bahasa indonesia kan pokoknya sampe ...</td>\n",
       "      <td>2</td>\n",
       "    </tr>\n",
       "    <tr>\n",
       "      <th>3</th>\n",
       "      <td>hallo kak kuota  amp</td>\n",
       "      <td>0</td>\n",
       "    </tr>\n",
       "    <tr>\n",
       "      <th>4</th>\n",
       "      <td>hai kak alfiyan maaf terkait akses internet la...</td>\n",
       "      <td>0</td>\n",
       "    </tr>\n",
       "    <tr>\n",
       "      <th>...</th>\n",
       "      <td>...</td>\n",
       "      <td>...</td>\n",
       "    </tr>\n",
       "    <tr>\n",
       "      <th>2467</th>\n",
       "      <td>baru tau telkomsel jaringannya cepet kayak gini</td>\n",
       "      <td>0</td>\n",
       "    </tr>\n",
       "    <tr>\n",
       "      <th>2468</th>\n",
       "      <td>hai kak put maaf banget ya terkait sinyal lema...</td>\n",
       "      <td>0</td>\n",
       "    </tr>\n",
       "    <tr>\n",
       "      <th>2469</th>\n",
       "      <td>pagi admin mohon bantuan nomor hp dipakai meng...</td>\n",
       "      <td>0</td>\n",
       "    </tr>\n",
       "    <tr>\n",
       "      <th>2470</th>\n",
       "      <td>haloo mengisi paket data dana terpotong tp akf...</td>\n",
       "      <td>0</td>\n",
       "    </tr>\n",
       "    <tr>\n",
       "      <th>2471</th>\n",
       "      <td>prediksi peandingan bola bayern munchen vs uni...</td>\n",
       "      <td>0</td>\n",
       "    </tr>\n",
       "  </tbody>\n",
       "</table>\n",
       "<p>2472 rows × 2 columns</p>\n",
       "</div>"
      ],
      "text/plain": [
       "                                                   text  label\n",
       "0                        pastikan internet sobat lancar      0\n",
       "1     spesial paket on aktif th cuma rb total kuota ...      0\n",
       "2     oi ngerti bahasa indonesia kan pokoknya sampe ...      2\n",
       "3                                  hallo kak kuota  amp      0\n",
       "4     hai kak alfiyan maaf terkait akses internet la...      0\n",
       "...                                                 ...    ...\n",
       "2467    baru tau telkomsel jaringannya cepet kayak gini      0\n",
       "2468  hai kak put maaf banget ya terkait sinyal lema...      0\n",
       "2469  pagi admin mohon bantuan nomor hp dipakai meng...      0\n",
       "2470  haloo mengisi paket data dana terpotong tp akf...      0\n",
       "2471  prediksi peandingan bola bayern munchen vs uni...      0\n",
       "\n",
       "[2472 rows x 2 columns]"
      ]
     },
     "execution_count": 36,
     "metadata": {},
     "output_type": "execute_result"
    }
   ],
   "source": [
    "df_sentimen_telecommunication['text'] = df_sentimen_telecommunication['text'].apply(clean_mark)\n",
    "df_sentimen_telecommunication['text'] = df_sentimen_telecommunication['text'].apply(remove_emojis)\n",
    "\n",
    "df_sentimen_telecommunication"
   ]
  },
  {
   "cell_type": "markdown",
   "metadata": {},
   "source": [
    "### Tokenize text"
   ]
  },
  {
   "cell_type": "code",
   "execution_count": 37,
   "metadata": {},
   "outputs": [
    {
     "data": {
      "text/html": [
       "<div>\n",
       "<style scoped>\n",
       "    .dataframe tbody tr th:only-of-type {\n",
       "        vertical-align: middle;\n",
       "    }\n",
       "\n",
       "    .dataframe tbody tr th {\n",
       "        vertical-align: top;\n",
       "    }\n",
       "\n",
       "    .dataframe thead th {\n",
       "        text-align: right;\n",
       "    }\n",
       "</style>\n",
       "<table border=\"1\" class=\"dataframe\">\n",
       "  <thead>\n",
       "    <tr style=\"text-align: right;\">\n",
       "      <th></th>\n",
       "      <th>text</th>\n",
       "      <th>label</th>\n",
       "    </tr>\n",
       "  </thead>\n",
       "  <tbody>\n",
       "    <tr>\n",
       "      <th>0</th>\n",
       "      <td>[pastikan, internet, sobat, lancar]</td>\n",
       "      <td>0</td>\n",
       "    </tr>\n",
       "    <tr>\n",
       "      <th>1</th>\n",
       "      <td>[spesial, paket, on, aktif, th, cuma, rb, tota...</td>\n",
       "      <td>0</td>\n",
       "    </tr>\n",
       "    <tr>\n",
       "      <th>2</th>\n",
       "      <td>[oi, ngerti, bahasa, indonesia, kan, pokok, ny...</td>\n",
       "      <td>2</td>\n",
       "    </tr>\n",
       "    <tr>\n",
       "      <th>3</th>\n",
       "      <td>[hallo, kak, kuota, amp]</td>\n",
       "      <td>0</td>\n",
       "    </tr>\n",
       "    <tr>\n",
       "      <th>4</th>\n",
       "      <td>[hai, kak, alfiyan, maaf, terkait, akses, inte...</td>\n",
       "      <td>0</td>\n",
       "    </tr>\n",
       "    <tr>\n",
       "      <th>...</th>\n",
       "      <td>...</td>\n",
       "      <td>...</td>\n",
       "    </tr>\n",
       "    <tr>\n",
       "      <th>2467</th>\n",
       "      <td>[baru, tau, telkomsel, jaringan, nya, cepet, k...</td>\n",
       "      <td>0</td>\n",
       "    </tr>\n",
       "    <tr>\n",
       "      <th>2468</th>\n",
       "      <td>[hai, kak, put, maaf, banget, ya, terkait, sin...</td>\n",
       "      <td>0</td>\n",
       "    </tr>\n",
       "    <tr>\n",
       "      <th>2469</th>\n",
       "      <td>[pagi, admin, mohon, bantuan, nomor, hp, dipak...</td>\n",
       "      <td>0</td>\n",
       "    </tr>\n",
       "    <tr>\n",
       "      <th>2470</th>\n",
       "      <td>[haloo, mengisi, paket, data, dana, terpotong,...</td>\n",
       "      <td>0</td>\n",
       "    </tr>\n",
       "    <tr>\n",
       "      <th>2471</th>\n",
       "      <td>[prediksi, peandingan, bola, bayern, munchen, ...</td>\n",
       "      <td>0</td>\n",
       "    </tr>\n",
       "  </tbody>\n",
       "</table>\n",
       "<p>2472 rows × 2 columns</p>\n",
       "</div>"
      ],
      "text/plain": [
       "                                                   text  label\n",
       "0                   [pastikan, internet, sobat, lancar]      0\n",
       "1     [spesial, paket, on, aktif, th, cuma, rb, tota...      0\n",
       "2     [oi, ngerti, bahasa, indonesia, kan, pokok, ny...      2\n",
       "3                              [hallo, kak, kuota, amp]      0\n",
       "4     [hai, kak, alfiyan, maaf, terkait, akses, inte...      0\n",
       "...                                                 ...    ...\n",
       "2467  [baru, tau, telkomsel, jaringan, nya, cepet, k...      0\n",
       "2468  [hai, kak, put, maaf, banget, ya, terkait, sin...      0\n",
       "2469  [pagi, admin, mohon, bantuan, nomor, hp, dipak...      0\n",
       "2470  [haloo, mengisi, paket, data, dana, terpotong,...      0\n",
       "2471  [prediksi, peandingan, bola, bayern, munchen, ...      0\n",
       "\n",
       "[2472 rows x 2 columns]"
      ]
     },
     "execution_count": 37,
     "metadata": {},
     "output_type": "execute_result"
    }
   ],
   "source": [
    "df_sentimen_telecommunication['text'] = df_sentimen_telecommunication['text'].apply(lambda txt:tokenizer.tokenize(txt))\n",
    "\n",
    "df_sentimen_telecommunication"
   ]
  },
  {
   "cell_type": "markdown",
   "metadata": {},
   "source": [
    "### Replace Slang to Formal words"
   ]
  },
  {
   "cell_type": "code",
   "execution_count": 38,
   "metadata": {},
   "outputs": [
    {
     "name": "stderr",
     "output_type": "stream",
     "text": [
      "Repo card metadata block was not found. Setting CardData to empty.\n"
     ]
    },
    {
     "name": "stdout",
     "output_type": "stream",
     "text": [
      "Dataset({\n",
      "    features: ['slang', 'formal'],\n",
      "    num_rows: 4412\n",
      "})\n"
     ]
    }
   ],
   "source": [
    "formal_words_id = load_dataset('theonlydo/indonesia-slang')\n",
    "print(formal_words_id['train'])\n"
   ]
  },
  {
   "cell_type": "code",
   "execution_count": 39,
   "metadata": {},
   "outputs": [],
   "source": [
    "def text_process(txt, slang2formal, stopwords, lemmatize, stemming):\n",
    "    txt = [slang2formal.get(word.lower(), word) for word in txt]\n",
    "\n",
    "    txt = [word for word in txt if word.lower() not in stopwords.get_stopword()]\n",
    "\n",
    "    txt = [lemmatize.lemmatize(word) for word in txt]\n",
    "\n",
    "    stemmer = stemming.create_stemmer()\n",
    "    txt = [stemmer.stem(word) for word in txt]\n",
    "\n",
    "\n",
    "    return \" \".join(txt)\n",
    "\n",
    "\n",
    "slang2formal = dict(zip(formal_words_id['train']['slang'], formal_words_id['train']['formal']))\n",
    "\n",
    "df_sentimen_telecommunication['text'] = df_sentimen_telecommunication['text'].apply(lambda x: text_process(x, slang2formal, stopword, lemmatizer, StemmerFactory()))"
   ]
  },
  {
   "cell_type": "markdown",
   "metadata": {},
   "source": [
    "### Remove StopWords"
   ]
  },
  {
   "cell_type": "code",
   "execution_count": 40,
   "metadata": {},
   "outputs": [],
   "source": [
    "df_sentimen_telecommunication.to_csv('../datasets/cleaned_train_dataset.csv', index=False)"
   ]
  },
  {
   "cell_type": "markdown",
   "metadata": {},
   "source": [
    "https://www.kaggle.com/code/dewanakretarta/transformer-classification-gojek\n",
    "\n",
    "https://www.kaggle.com/code/alkidiarete/fastai-gojek-reviews\n",
    "\n",
    "https://www.kaggle.com/code/rizkia14/analisis-sentimen-unsupervised-lexical#Textblob-Lexicon\n",
    "\n",
    "https://www.kaggle.com/code/miftahurrizki/eda-topic-modelling-using-pyldavis/notebook\n",
    "\n",
    "https://www.kaggle.com/code/dewanakretarta/transformer-classification-mobile-legends"
   ]
  },
  {
   "cell_type": "code",
   "execution_count": 44,
   "metadata": {},
   "outputs": [
    {
     "data": {
      "text/plain": [
       "<Axes: ylabel='count'>"
      ]
     },
     "execution_count": 44,
     "metadata": {},
     "output_type": "execute_result"
    },
    {
     "data": {
      "image/png": "[encoded data removed]",
      "text/plain": [
       "<Figure size 640x480 with 1 Axes>"
      ]
     },
     "metadata": {},
     "output_type": "display_data"
    }
   ],
   "source": [
    "df_train_cleaned = pd.read_csv('../datasets/cleaned_train_dataset.csv')\n",
    "df_sentimen_telecommunication['label'].value_counts().plot(kind='pie')"
   ]
  }
 ],
 "metadata": {
  "kernelspec": {
   "display_name": "Python 3",
   "language": "python",
   "name": "python3"
  },
  "language_info": {
   "codemirror_mode": {
    "name": "ipython",
    "version": 3
   },
   "file_extension": ".py",
   "mimetype": "text/x-python",
   "name": "python",
   "nbconvert_exporter": "python",
   "pygments_lexer": "ipython3",
   "version": "3.12.8"
  }
 },
 "nbformat": 4,
 "nbformat_minor": 2
}
