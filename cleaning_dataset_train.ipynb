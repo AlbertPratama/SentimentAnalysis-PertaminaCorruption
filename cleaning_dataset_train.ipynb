{
 "cells": [
  {
   "cell_type": "code",
   "execution_count": null,
   "metadata": {},
   "outputs": [
    {
     "name": "stderr",
     "output_type": "stream",
     "text": [
      "c:\\Users\\alber\\AppData\\Local\\Programs\\Python\\Python312\\Lib\\site-packages\\tqdm\\auto.py:21: TqdmWarning: IProgress not found. Please update jupyter and ipywidgets. See https://ipywidgets.readthedocs.io/en/stable/user_install.html\n",
      "  from .autonotebook import tqdm as notebook_tqdm\n"
     ]
    }
   ],
   "source": [
    "import pandas as pd\n",
    "import numpy as np\n",
    "import string\n",
    "import re"
   ]
  },
  {
   "cell_type": "markdown",
   "metadata": {},
   "source": [
    "Import bahasa baku dan Sarcastic comments"
   ]
  },
  {
   "cell_type": "code",
   "execution_count": 2,
   "metadata": {},
   "outputs": [
    {
     "data": {
      "application/vnd.microsoft.datawrangler.viewer.v0+json": {
       "columns": [
        {
         "name": "index",
         "rawType": "int64",
         "type": "integer"
        },
        {
         "name": "id",
         "rawType": "object",
         "type": "string"
        },
        {
         "name": "username",
         "rawType": "object",
         "type": "string"
        },
        {
         "name": "comment",
         "rawType": "object",
         "type": "string"
        },
        {
         "name": "num_of_likes",
         "rawType": "int64",
         "type": "integer"
        },
        {
         "name": "published_at",
         "rawType": "object",
         "type": "string"
        }
       ],
       "conversionMethod": "pd.DataFrame",
       "ref": "780200ac-644b-475b-8d75-c84e0f00d384",
       "rows": [
        [
         "0",
         "N3JZxBTC1Zw",
         "@alvinvinoza",
         "Naikin gajinya 🔥🔥",
         "962",
         "2025-03-12T14:42:39Z"
        ],
        [
         "1",
         "9YFbtgNsSeA",
         "@MuklasinMuklasin-k6w",
         "Kalo tidak ada hukuman mati, sampek kiamat pun negeri ini masi saja ada yg korupsi",
         "847",
         "2025-02-25T22:31:15Z"
        ],
        [
         "2",
         "9YFbtgNsSeA",
         "@infotodax",
         "Gua gak kebayang, Gaji elu berapa... Tapi keserakahan lu... Luar biasa...",
         "683",
         "2025-02-26T03:59:00Z"
        ],
        [
         "3",
         "N3JZxBTC1Zw",
         "@febbriyansaputra4132",
         "Tolong host nya di support dan di lindungi ini",
         "552",
         "2025-03-19T13:20:14Z"
        ],
        [
         "4",
         "N3JZxBTC1Zw",
         "@chalvit4162",
         "harusnya berita ya kayak begini dibawa santai tapi tajam abang ku 😂",
         "535",
         "2025-03-06T16:28:31Z"
        ],
        [
         "5",
         "9YFbtgNsSeA",
         "@niutto5910",
         "Korupsi di pertamina sudah menjadi budaya mendarah daging di setiap pejabatnya, sejak dulu kala, tapi baru dibongkar sekarang. lebih baik terlambat dari pada tidak. bumn dan institusi pemerintah lain juga sama korupnya harus dibongkar semua. Semoga pemerintahan Prabowo benar2 bisa memberantas korupsi seperti yg dijanjikan.",
         "441",
         "2025-02-25T12:50:55Z"
        ],
        [
         "6",
         "9YFbtgNsSeA",
         "@MuhammadRusmadi-o7k",
         "Gila,, lama lama jdi terbiasa denger korupsi smpe ratusan triliun,sumpah demi tuhan jangankan menuju Indonesia emas,, yg ada menuju Indonesia sakaratul maut",
         "268",
         "2025-02-26T04:28:55Z"
        ],
        [
         "7",
         "N3JZxBTC1Zw",
         "@johansigarantang",
         "2 pria yang menurut gw pemberani.\n\n1. Ahmed nurmagedov\n2. Host berita Metro TV\n\nIni menurutku kreatif sama berani sekali, kelihatan siapa yang mendukung dan siapa yang menyembunyikan.",
         "266",
         "2025-03-20T13:38:17Z"
        ],
        [
         "8",
         "9YFbtgNsSeA",
         "@alfath4971",
         "Pertamina dan PLN harus di selidiki itu rugi terus.... KPK woi kerja!!!",
         "259",
         "2025-02-25T21:43:53Z"
        ],
        [
         "9",
         "N3JZxBTC1Zw",
         "@Lyvimoon",
         "Shessshhhhhh beliau terlalu fokus memasak sampai lupa mengatur apinya yang terlalu membara🥶🥶🥶🔥🔥🔥.\n\nLindungi beliauu jangan sampe PEJABAT YANG BAPERAN DAN GAK TERIMA DIKATAIN SEPERTI ITU menghukum beliau dengan alasan mencerkan nama baik. Semoag gak ada deh pejabat yang gak tau diri kek gitu 😂😂😂\n\n\nOtw subrekk",
         "243",
         "2025-03-20T00:18:47Z"
        ],
        [
         "10",
         "N3JZxBTC1Zw",
         "@Rizallaufa_2014Rizallaufa",
         "Penulis naskah harus di beri penghargaan\n\"Cooking liga korupsi\"\n🗣️🔥🔥🔥",
         "239",
         "2025-03-20T09:03:58Z"
        ],
        [
         "11",
         "nwgTuwCb0aU",
         "@imanradiman-xb7sq",
         "Saya setuju ucapan bu karen , bongkar saja siapapun yg turut menikmati korupsi ...jangan takut dari pada ditanggung sendiri..dan kalau bisa sebut saja namanya...jangan ragu..ok",
         "220",
         "2023-09-19T15:48:06Z"
        ],
        [
         "12",
         "N3JZxBTC1Zw",
         "@anasrullah4641",
         "let him cook 🔥",
         "189",
         "2025-03-15T11:18:34Z"
        ],
        [
         "13",
         "9YFbtgNsSeA",
         "@ardia2308",
         "Saya kangen ada hakim yg memvonis koruptor hukuman mati atau minimal 100 tahun penjara.",
         "184",
         "2025-02-25T17:26:05Z"
        ],
        [
         "14",
         "9YFbtgNsSeA",
         "@rudypri100",
         "Korupsi minimal 1 Milyar = HUKUMAN MATI.....pasti INDONESIA MAKMUR......SETUJU NGGAK???",
         "176",
         "2025-02-26T07:11:09Z"
        ],
        [
         "15",
         "nwgTuwCb0aU",
         "@ojolgaming9138",
         "Dari tatapan matanya, saya rasa penjelasan ibu ini jujur dan tanpa ditutupi",
         "167",
         "2023-09-19T16:37:28Z"
        ],
        [
         "16",
         "N3JZxBTC1Zw",
         "@ForumAnakBangsa",
         "Media harusmya begini...bukan sekedar memberitakan tp juga mencerdaskan warga negara",
         "136",
         "2025-03-14T00:34:15Z"
        ],
        [
         "17",
         "N3JZxBTC1Zw",
         "@ManzrealID",
         "Baru kali ini nonton berita sampai akhir",
         "136",
         "2025-03-17T10:50:22Z"
        ],
        [
         "18",
         "N3JZxBTC1Zw",
         "@KYA057",
         "Berita tepi jurang 😂😂😂😂😂",
         "136",
         "2025-03-06T14:51:46Z"
        ],
        [
         "19",
         "N3JZxBTC1Zw",
         "@nr777s",
         "Stand up terjun jurang 😂😂😂",
         "136",
         "2025-03-19T03:59:08Z"
        ],
        [
         "20",
         "nwgTuwCb0aU",
         "@tayokids8865",
         "Luar biasa lugas, beradab dan mantap penjelasannya,, salam hormat bu Karen,, ⭐⭐⭐",
         "126",
         "2023-09-19T16:07:53Z"
        ],
        [
         "21",
         "9YFbtgNsSeA",
         "@kidemang8606",
         "Gila gila gila gila, Pak Presiden rakyat mendukungmu terbitkan perpu perampasan aset koruptor Pak Presiden.",
         "122",
         "2025-02-25T12:56:39Z"
        ],
        [
         "22",
         "nwgTuwCb0aU",
         "@sukoharjan1505",
         "Nampak Bu Karen sangat tegar dg jawaban jawaban yang lancar",
         "120",
         "2023-09-19T16:00:22Z"
        ],
        [
         "23",
         "9YFbtgNsSeA",
         "@Djaisabdulajis",
         "Yg beginianlah yg hrs d didemo para mahasiswa, desak pemerintah untuk hukum berat para koruptor dan mengesahkan uu perampasan aset!!",
         "116",
         "2025-02-26T00:36:06Z"
        ],
        [
         "24",
         "nwgTuwCb0aU",
         "@mariasyarif884",
         "Orang yg bersalah biasanya tidak mau berkomentar atau memberikan keterangan, bahkan menganggap dirinya korban.. tapi ibu menjawab semua pertanyaan dengan lancar dan no komen ttg siapa yg mengorbankannya.",
         "113",
         "2023-09-19T16:39:14Z"
        ],
        [
         "25",
         "9YFbtgNsSeA",
         "@carsahamdaniofficial",
         "Ribuan pemulung di Bantargebang mencari uang 100 ribu susah payah harus memilah² sampah yg penuh penyakit...ini orang malah seenaknya uang trilyunan dimakan melalui jabatan....rakyat hanya bisa mendoakan agar mereka hidup jadi pemulung !",
         "103",
         "2025-02-26T20:48:59Z"
        ],
        [
         "26",
         "nwgTuwCb0aU",
         "@IdeKreatif1814",
         "Tetap tegar, tegas, mentalnya kuat bngt bu, smg ini hny ujian naik kelas, byk berdoa krn Allah SWT maha tahu segalanya",
         "88",
         "2023-09-19T16:15:26Z"
        ],
        [
         "27",
         "N3JZxBTC1Zw",
         "@mahdinafi4393",
         "korupsi aja semua terus....sampai indonesia bangkrut.",
         "88",
         "2025-03-06T15:36:47Z"
        ],
        [
         "28",
         "nwgTuwCb0aU",
         "@Mr4ngg4",
         "Tetap semangat & tegar y bu Karen...  InsyaAllah... semua tabir akan terbuka.. waktu akan berbicara untuk mengungkap kebenaran....",
         "84",
         "2023-09-19T17:35:12Z"
        ],
        [
         "29",
         "N3JZxBTC1Zw",
         "@nihnu-q7m",
         "Anjai kali ini metrotv mewakili saya sebagai penggemar bola.",
         "84",
         "2025-03-19T05:35:23Z"
        ],
        [
         "30",
         "9YFbtgNsSeA",
         "@pramistyo5025",
         "Yg rugi itu rakyat, bukan negara, negara tetap untung",
         "81",
         "2025-02-26T02:28:49Z"
        ],
        [
         "31",
         "nwgTuwCb0aU",
         "@cokhro7228",
         "Ibu karen bukan pelaku sebenarnya dia hanya dijadikan Tumbal",
         "75",
         "2023-09-19T16:14:12Z"
        ],
        [
         "32",
         "nwgTuwCb0aU",
         "@syamsulusroqusroq3148",
         "Ini jawaban yang mantap, tanpa teks,, jujur dari hati 🤔🤔 tinggal tunggu kawan kawan yg menemani di sel🙏🙏",
         "74",
         "2023-09-19T16:13:21Z"
        ],
        [
         "33",
         "N3JZxBTC1Zw",
         "@angelachali3772",
         "gen z jadi reporter be like:",
         "67",
         "2025-03-16T11:07:58Z"
        ],
        [
         "34",
         "9YFbtgNsSeA",
         "@bvp79",
         "20 tahun lalu China udah memberi contoh model hukum dlm memberantas Korupsi...tp Indonesia tak mau mencontohnya dgn alasan HAM.",
         "65",
         "2025-02-26T02:42:14Z"
        ],
        [
         "35",
         "N3JZxBTC1Zw",
         "@revachocolate2216",
         "Menyala abangku reporter teruskan 😂",
         "65",
         "2025-03-14T15:43:48Z"
        ],
        [
         "36",
         "9YFbtgNsSeA",
         "@munawirwin9918",
         "Paling tuntutan jaksa 6 tahun. Rp.300.000.000.000.000 hukuman penjara 6,5 tahun. Rp 197.000.000.000.000 hukuman penjara 3,5 tahun.😂😂😂",
         "64",
         "2025-02-25T12:46:44Z"
        ],
        [
         "37",
         "9YFbtgNsSeA",
         "@UPrab-qj8ei",
         "Selama UU sita aset bkm disahkan...\nSelama koruptor blm di hukum mati....\nWalaupun ada kejagung dan dibantu 10 kpk pun, korupsi tdk akan hilang dr negeri ini selama hukuman yg terlaku ringan di negeri ini...\nNamun tetap saya SALUT AMA KEJAGUNG.....👍",
         "62",
         "2025-02-26T04:56:30Z"
        ],
        [
         "38",
         "nwgTuwCb0aU",
         "@KutuMetal-j8o",
         "Setiap konspirasi harus ada yg jadi tumbal demi menutupi rahasia yg lebih besar.",
         "61",
         "2023-09-19T16:19:42Z"
        ],
        [
         "39",
         "N3JZxBTC1Zw",
         "@aldiapriansyah9305",
         "gosong cheff🔥🔥🔥🔥",
         "59",
         "2025-03-16T16:41:35Z"
        ],
        [
         "40",
         "9YFbtgNsSeA",
         "@nelsonbida9958",
         "Ini yg dulu sering berteriak soal AHKLAK ke bawahannya, ternyata mreka yg ngk ada AHKLAK",
         "59",
         "2025-02-26T00:09:24Z"
        ],
        [
         "41",
         "N3JZxBTC1Zw",
         "@dhanielmanurung3415",
         "Nonton metro tv karna mas-mas ini 😂",
         "57",
         "2025-03-16T04:47:40Z"
        ],
        [
         "42",
         "N3JZxBTC1Zw",
         "@BliBilly",
         "Berani sangat 😂😂 mantap Mimin metro 🤣🤣",
         "57",
         "2025-03-19T22:34:08Z"
        ],
        [
         "43",
         "N3JZxBTC1Zw",
         "@habib.af75",
         "Lindungi beliau",
         "56",
         "2025-03-19T09:23:44Z"
        ],
        [
         "44",
         "nwgTuwCb0aU",
         "@aisyahmubarak8614",
         "SABAR YA BU KAREN,ALLAH AKAN MELINDUNGI DIRIMU,YG ZOLIM PASTI DILAKNAT ALLAH,.AAMIINN,.",
         "54",
         "2023-09-19T15:53:22Z"
        ],
        [
         "45",
         "nwgTuwCb0aU",
         "@wisastragoesty7249",
         "Ibu Karen harus berani buka semua nya se jelas\" nya...\nAamiin🤲🤲",
         "53",
         "2023-09-19T17:06:56Z"
        ],
        [
         "46",
         "nwgTuwCb0aU",
         "@HBudionoHMBA",
         "Kebenaran tetap berada pada tempatnya, begitu juga keburukkan berada pada tempatnya. Kebenaran dan keburukkan akan muncul pada waktunya. Buka semua apa yang terjadi di pertamina, bu Karen sejak awal menjabat telah disematkan pejabat yang bagus dan punya reputasi yang cemerlang.",
         "53",
         "2023-09-19T22:51:52Z"
        ],
        [
         "47",
         "nwgTuwCb0aU",
         "@Istimevva",
         "Ibu ini org Jujur... dr jawabannya lugas. Kalau bohong bertele² cari² pembenaran. Tapi ibu ini tidak. Lugas Dann dr gesture wajar Jujur dan menahan beban.",
         "50",
         "2023-09-19T16:09:32Z"
        ],
        [
         "48",
         "N3JZxBTC1Zw",
         "@Mr.Brick1359",
         "absolute cinema 🖐😐🤚",
         "49",
         "2025-03-20T19:37:38Z"
        ],
        [
         "49",
         "9YFbtgNsSeA",
         "@fariez26",
         "Yg bangga kerja di Pertamina...hallo apa kabar???",
         "45",
         "2025-02-25T14:22:15Z"
        ]
       ],
       "shape": {
        "columns": 5,
        "rows": 7554
       }
      },
      "text/html": [
       "<div>\n",
       "<style scoped>\n",
       "    .dataframe tbody tr th:only-of-type {\n",
       "        vertical-align: middle;\n",
       "    }\n",
       "\n",
       "    .dataframe tbody tr th {\n",
       "        vertical-align: top;\n",
       "    }\n",
       "\n",
       "    .dataframe thead th {\n",
       "        text-align: right;\n",
       "    }\n",
       "</style>\n",
       "<table border=\"1\" class=\"dataframe\">\n",
       "  <thead>\n",
       "    <tr style=\"text-align: right;\">\n",
       "      <th></th>\n",
       "      <th>id</th>\n",
       "      <th>username</th>\n",
       "      <th>comment</th>\n",
       "      <th>num_of_likes</th>\n",
       "      <th>published_at</th>\n",
       "    </tr>\n",
       "  </thead>\n",
       "  <tbody>\n",
       "    <tr>\n",
       "      <th>0</th>\n",
       "      <td>N3JZxBTC1Zw</td>\n",
       "      <td>@alvinvinoza</td>\n",
       "      <td>Naikin gajinya 🔥🔥</td>\n",
       "      <td>962</td>\n",
       "      <td>2025-03-12T14:42:39Z</td>\n",
       "    </tr>\n",
       "    <tr>\n",
       "      <th>1</th>\n",
       "      <td>9YFbtgNsSeA</td>\n",
       "      <td>@MuklasinMuklasin-k6w</td>\n",
       "      <td>Kalo tidak ada hukuman mati, sampek kiamat pun...</td>\n",
       "      <td>847</td>\n",
       "      <td>2025-02-25T22:31:15Z</td>\n",
       "    </tr>\n",
       "    <tr>\n",
       "      <th>2</th>\n",
       "      <td>9YFbtgNsSeA</td>\n",
       "      <td>@infotodax</td>\n",
       "      <td>Gua gak kebayang, Gaji elu berapa... Tapi kese...</td>\n",
       "      <td>683</td>\n",
       "      <td>2025-02-26T03:59:00Z</td>\n",
       "    </tr>\n",
       "    <tr>\n",
       "      <th>3</th>\n",
       "      <td>N3JZxBTC1Zw</td>\n",
       "      <td>@febbriyansaputra4132</td>\n",
       "      <td>Tolong host nya di support dan di lindungi ini</td>\n",
       "      <td>552</td>\n",
       "      <td>2025-03-19T13:20:14Z</td>\n",
       "    </tr>\n",
       "    <tr>\n",
       "      <th>4</th>\n",
       "      <td>N3JZxBTC1Zw</td>\n",
       "      <td>@chalvit4162</td>\n",
       "      <td>harusnya berita ya kayak begini dibawa santai ...</td>\n",
       "      <td>535</td>\n",
       "      <td>2025-03-06T16:28:31Z</td>\n",
       "    </tr>\n",
       "    <tr>\n",
       "      <th>...</th>\n",
       "      <td>...</td>\n",
       "      <td>...</td>\n",
       "      <td>...</td>\n",
       "      <td>...</td>\n",
       "      <td>...</td>\n",
       "    </tr>\n",
       "    <tr>\n",
       "      <th>7549</th>\n",
       "      <td>https://x.com/KPK_RI/status/1704722123636539748</td>\n",
       "      <td>hedianti</td>\n",
       "      <td>@KPK_RI Halah..selama korupsi ga hukum mati......</td>\n",
       "      <td>5</td>\n",
       "      <td>Thu Sep 21 06:56:32 +0000 2023</td>\n",
       "    </tr>\n",
       "    <tr>\n",
       "      <th>7550</th>\n",
       "      <td>https://x.com/KPK_RI/status/1704722123636539748</td>\n",
       "      <td>Charles39953441</td>\n",
       "      <td>@KPK_RI beberapa Dirut pertamina jadi tersangk...</td>\n",
       "      <td>3</td>\n",
       "      <td>Thu Sep 21 07:16:03 +0000 2023</td>\n",
       "    </tr>\n",
       "    <tr>\n",
       "      <th>7551</th>\n",
       "      <td>https://x.com/KPK_RI/status/1704722123636539748</td>\n",
       "      <td>Aryabarcelona</td>\n",
       "      <td>@KPK_RI 10 tahun baru terungkap beneran gak si...</td>\n",
       "      <td>3</td>\n",
       "      <td>Thu Sep 21 07:23:35 +0000 2023</td>\n",
       "    </tr>\n",
       "    <tr>\n",
       "      <th>7552</th>\n",
       "      <td>https://x.com/KPK_RI/status/1704722123636539748</td>\n",
       "      <td>harley_doni</td>\n",
       "      <td>@KPK_RI Masak KA sebodoh itu ya. Apakah mmg me...</td>\n",
       "      <td>3</td>\n",
       "      <td>Thu Sep 21 07:59:09 +0000 2023</td>\n",
       "    </tr>\n",
       "    <tr>\n",
       "      <th>7553</th>\n",
       "      <td>https://x.com/KPK_RI/status/1704722123636539748</td>\n",
       "      <td>bisnis_h</td>\n",
       "      <td>@KPK_RI Nah kalo semua bisa di tindak harus je...</td>\n",
       "      <td>2</td>\n",
       "      <td>Thu Sep 21 05:49:29 +0000 2023</td>\n",
       "    </tr>\n",
       "  </tbody>\n",
       "</table>\n",
       "<p>7554 rows × 5 columns</p>\n",
       "</div>"
      ],
      "text/plain": [
       "                                                   id               username  \\\n",
       "0                                         N3JZxBTC1Zw           @alvinvinoza   \n",
       "1                                         9YFbtgNsSeA  @MuklasinMuklasin-k6w   \n",
       "2                                         9YFbtgNsSeA             @infotodax   \n",
       "3                                         N3JZxBTC1Zw  @febbriyansaputra4132   \n",
       "4                                         N3JZxBTC1Zw           @chalvit4162   \n",
       "...                                               ...                    ...   \n",
       "7549  https://x.com/KPK_RI/status/1704722123636539748               hedianti   \n",
       "7550  https://x.com/KPK_RI/status/1704722123636539748        Charles39953441   \n",
       "7551  https://x.com/KPK_RI/status/1704722123636539748          Aryabarcelona   \n",
       "7552  https://x.com/KPK_RI/status/1704722123636539748            harley_doni   \n",
       "7553  https://x.com/KPK_RI/status/1704722123636539748               bisnis_h   \n",
       "\n",
       "                                                comment  num_of_likes  \\\n",
       "0                                     Naikin gajinya 🔥🔥           962   \n",
       "1     Kalo tidak ada hukuman mati, sampek kiamat pun...           847   \n",
       "2     Gua gak kebayang, Gaji elu berapa... Tapi kese...           683   \n",
       "3        Tolong host nya di support dan di lindungi ini           552   \n",
       "4     harusnya berita ya kayak begini dibawa santai ...           535   \n",
       "...                                                 ...           ...   \n",
       "7549  @KPK_RI Halah..selama korupsi ga hukum mati......             5   \n",
       "7550  @KPK_RI beberapa Dirut pertamina jadi tersangk...             3   \n",
       "7551  @KPK_RI 10 tahun baru terungkap beneran gak si...             3   \n",
       "7552  @KPK_RI Masak KA sebodoh itu ya. Apakah mmg me...             3   \n",
       "7553  @KPK_RI Nah kalo semua bisa di tindak harus je...             2   \n",
       "\n",
       "                        published_at  \n",
       "0               2025-03-12T14:42:39Z  \n",
       "1               2025-02-25T22:31:15Z  \n",
       "2               2025-02-26T03:59:00Z  \n",
       "3               2025-03-19T13:20:14Z  \n",
       "4               2025-03-06T16:28:31Z  \n",
       "...                              ...  \n",
       "7549  Thu Sep 21 06:56:32 +0000 2023  \n",
       "7550  Thu Sep 21 07:16:03 +0000 2023  \n",
       "7551  Thu Sep 21 07:23:35 +0000 2023  \n",
       "7552  Thu Sep 21 07:59:09 +0000 2023  \n",
       "7553  Thu Sep 21 05:49:29 +0000 2023  \n",
       "\n",
       "[7554 rows x 5 columns]"
      ]
     },
     "execution_count": 2,
     "metadata": {},
     "output_type": "execute_result"
    }
   ],
   "source": [
    "sentimen_public = pd.read_csv('../datasets/all_comments_temp.csv')\n",
    "sentimen_public"
   ]
  },
  {
   "cell_type": "code",
   "execution_count": 3,
   "metadata": {},
   "outputs": [
    {
     "name": "stdout",
     "output_type": "stream",
     "text": [
      "<class 'pandas.core.frame.DataFrame'>\n",
      "RangeIndex: 7554 entries, 0 to 7553\n",
      "Data columns (total 5 columns):\n",
      " #   Column        Non-Null Count  Dtype \n",
      "---  ------        --------------  ----- \n",
      " 0   id            7554 non-null   object\n",
      " 1   username      7554 non-null   object\n",
      " 2   comment       7554 non-null   object\n",
      " 3   num_of_likes  7554 non-null   int64 \n",
      " 4   published_at  7554 non-null   object\n",
      "dtypes: int64(1), object(4)\n",
      "memory usage: 295.2+ KB\n",
      "None\n",
      "\n",
      "Missing Values: \n",
      " id              0\n",
      "username        0\n",
      "comment         0\n",
      "num_of_likes    0\n",
      "published_at    0\n",
      "dtype: int64\n"
     ]
    }
   ],
   "source": [
    "print(sentimen_public.info())\n",
    "print('\\nMissing Values: \\n',sentimen_public.isna().sum())"
   ]
  },
  {
   "cell_type": "code",
   "execution_count": 8,
   "metadata": {},
   "outputs": [
    {
     "data": {
      "application/vnd.microsoft.datawrangler.viewer.v0+json": {
       "columns": [
        {
         "name": "index",
         "rawType": "int64",
         "type": "integer"
        },
        {
         "name": "username",
         "rawType": "object",
         "type": "string"
        },
        {
         "name": "comment",
         "rawType": "object",
         "type": "string"
        }
       ],
       "conversionMethod": "pd.DataFrame",
       "ref": "e8fd7c65-b788-4432-a9a2-d46e67b5ae2d",
       "rows": [
        [
         "0",
         "@alvinvinoza",
         "naikin gajinya"
        ],
        [
         "1",
         "@MuklasinMuklasin-k6w",
         "kalo tidak ada hukuman mati  sampek kiamat pun negeri ini masi saja ada yg korupsi"
        ],
        [
         "2",
         "@infotodax",
         "gua gak kebayang  gaji elu berapa  tapi keserakahan lu  luar biasa"
        ],
        [
         "3",
         "@febbriyansaputra4132",
         "tolong host nya di support dan di lindungi ini"
        ],
        [
         "4",
         "@chalvit4162",
         "harusnya berita ya kayak begini dibawa santai tapi tajam abang ku"
        ],
        [
         "5",
         "@niutto5910",
         "korupsi di pertamina sudah menjadi budaya mendarah daging di setiap pejabatnya  sejak dulu kala  tapi baru dibongkar sekarang  lebih baik terlambat dari pada tidak  bumn dan institusi pemerintah lain juga sama korupnya harus dibongkar semua  semoga pemerintahan prabowo benar bisa memberantas korupsi seperti yg dijanjikan"
        ],
        [
         "6",
         "@MuhammadRusmadi-o7k",
         "gila  lama jdi terbiasa denger korupsi smpe ratusan triliun sumpah demi tuhan jangankan menuju indonesia emas  yg ada menuju indonesia sakaratul maut"
        ],
        [
         "7",
         "@johansigarantang",
         "pria yang menurut gw pemberani  ahmed nurmagedov  host berita metro tv ini menurutku kreatif sama berani sekali  kelihatan siapa yang mendukung dan siapa yang menyembunyikan"
        ],
        [
         "8",
         "@alfath4971",
         "pertamina dan pln harus di selidiki itu rugi terus  kpk woi kerja"
        ],
        [
         "9",
         "@Lyvimoon",
         "shesshh beliau terlalu fokus memasak sampai lupa mengatur apinya yang terlalu membara  lindungi beliauu jangan sampe pejabat yang baperan dan gak terima dikatain seperti itu menghukum beliau dengan alasan mencerkan nama baik  semoag gak ada deh pejabat yang gak tau diri kek gitu  otw subrekk"
        ],
        [
         "10",
         "@Rizallaufa_2014Rizallaufa",
         "penulis naskah harus di beri penghargaan  cooking liga korupsi"
        ],
        [
         "11",
         "@imanradiman-xb7sq",
         "saya setuju ucapan bu karen  bongkar saja siapapun yg turut menikmati korupsi  jangan takut dari pada ditanggung sendiri  dan kalau bisa sebut saja namanya  jangan ragu  ok"
        ],
        [
         "12",
         "@anasrullah4641",
         "let him cook"
        ],
        [
         "13",
         "@ardia2308",
         "saya kangen ada hakim yg memvonis koruptor hukuman mati atau minimal  tahun penjara"
        ],
        [
         "14",
         "@rudypri100",
         "korupsi minimal  milyar  hukuman mati  pasti indonesia makmur  setuju nggak"
        ],
        [
         "15",
         "@ojolgaming9138",
         "dari tatapan matanya  saya rasa penjelasan ibu ini jujur dan tanpa ditutupi"
        ],
        [
         "16",
         "@ForumAnakBangsa",
         "media harusmya begini  bukan sekedar memberitakan tp juga mencerdaskan warga negara"
        ],
        [
         "17",
         "@ManzrealID",
         "baru kali ini nonton berita sampai akhir"
        ],
        [
         "18",
         "@KYA057",
         "berita tepi jurang"
        ],
        [
         "19",
         "@nr777s",
         "stand up terjun jurang"
        ],
        [
         "20",
         "@tayokids8865",
         "luar biasa lugas  beradab dan mantap penjelasannya  salam hormat bu karen"
        ],
        [
         "21",
         "@kidemang8606",
         "gila  pak presiden rakyat mendukungmu terbitkan perpu perampasan aset koruptor pak presiden"
        ],
        [
         "22",
         "@sukoharjan1505",
         "nampak bu karen sangat tegar dg jawaban yang lancar"
        ],
        [
         "23",
         "@Djaisabdulajis",
         "yg beginianlah yg hrs d didemo para mahasiswa  desak pemerintah untuk hukum berat para koruptor dan mengesahkan uu perampasan aset"
        ],
        [
         "24",
         "@mariasyarif884",
         "orang yg bersalah biasanya tidak mau berkomentar atau memberikan keterangan  bahkan menganggap dirinya korban  tapi ibu menjawab semua pertanyaan dengan lancar dan no komen ttg siapa yg mengorbankannya"
        ],
        [
         "25",
         "@carsahamdaniofficial",
         "ribuan pemulung di bantargebang mencari uang  ribu susah payah harus memilah  sampah yg penuh penyakit  ini orang malah seenaknya uang trilyunan dimakan melalui jabatan  rakyat hanya bisa mendoakan agar mereka hidup jadi pemulung"
        ],
        [
         "26",
         "@IdeKreatif1814",
         "tetap tegar  tegas  mentalnya kuat bngt bu  smg ini hny ujian naik kelas  byk berdoa krn allah swt maha tahu segalanya"
        ],
        [
         "27",
         "@mahdinafi4393",
         "korupsi aja semua terus  sampai indonesia bangkrut"
        ],
        [
         "28",
         "@Mr4ngg4",
         "tetap semangat  tegar y bu karen  insyaallah  semua tabir akan terbuka  waktu akan berbicara untuk mengungkap kebenaran"
        ],
        [
         "29",
         "@nihnu-q7m",
         "anjai kali ini metrotv mewakili saya sebagai penggemar bola"
        ],
        [
         "30",
         "@pramistyo5025",
         "yg rugi itu rakyat  bukan negara  negara tetap untung"
        ],
        [
         "31",
         "@cokhro7228",
         "ibu karen bukan pelaku sebenarnya dia hanya dijadikan tumbal"
        ],
        [
         "32",
         "@syamsulusroqusroq3148",
         "ini jawaban yang mantap  tanpa teks  jujur dari hati  tinggal tunggu kawan yg menemani di sel"
        ],
        [
         "33",
         "@angelachali3772",
         "gen z jadi reporter be like"
        ],
        [
         "34",
         "@bvp79",
         "tahun lalu china udah memberi contoh model hukum dlm memberantas korupsi  tp indonesia tak mau mencontohnya dgn alasan ham"
        ],
        [
         "35",
         "@revachocolate2216",
         "menyala abangku reporter teruskan"
        ],
        [
         "36",
         "@munawirwin9918",
         "paling tuntutan jaksa  tahun  rp  hukuman penjara  tahun  rp  hukuman penjara  tahun"
        ],
        [
         "37",
         "@UPrab-qj8ei",
         "selama uu sita aset bkm disahkan  selama koruptor blm di hukum mati  walaupun ada kejagung dan dibantu  kpk pun  korupsi tdk akan hilang dr negeri ini selama hukuman yg terlaku ringan di negeri ini  namun tetap saya salut ama kejagung"
        ],
        [
         "38",
         "@KutuMetal-j8o",
         "setiap konspirasi harus ada yg jadi tumbal demi menutupi rahasia yg lebih besar"
        ],
        [
         "39",
         "@aldiapriansyah9305",
         "gosong cheff"
        ],
        [
         "40",
         "@nelsonbida9958",
         "ini yg dulu sering berteriak soal ahklak ke bawahannya  ternyata mreka yg ngk ada ahklak"
        ],
        [
         "41",
         "@dhanielmanurung3415",
         "nonton metro tv karna mas ini"
        ],
        [
         "42",
         "@BliBilly",
         "berani sangat  mantap mimin metro"
        ],
        [
         "43",
         "@habib.af75",
         "lindungi beliau"
        ],
        [
         "44",
         "@aisyahmubarak8614",
         "sabar ya bu karen allah akan melindungi dirimu yg zolim pasti dilaknat allah  aamiinn"
        ],
        [
         "45",
         "@wisastragoesty7249",
         "ibu karen harus berani buka semua nya se jelas  nya  aamiin"
        ],
        [
         "46",
         "@HBudionoHMBA",
         "kebenaran tetap berada pada tempatnya  begitu juga keburukkan berada pada tempatnya  kebenaran dan keburukkan akan muncul pada waktunya  buka semua apa yang terjadi di pertamina  bu karen sejak awal menjabat telah disematkan pejabat yang bagus dan punya reputasi yang cemerlang"
        ],
        [
         "47",
         "@Istimevva",
         "ibu ini org jujur  dr jawabannya lugas  kalau bohong bertele  cari  pembenaran  tapi ibu ini tidak  lugas dann dr gesture wajar jujur dan menahan beban"
        ],
        [
         "48",
         "@Mr.Brick1359",
         "absolute cinema"
        ],
        [
         "49",
         "@fariez26",
         "yg bangga kerja di pertamina  hallo apa kabar"
        ]
       ],
       "shape": {
        "columns": 2,
        "rows": 7554
       }
      },
      "text/html": [
       "<div>\n",
       "<style scoped>\n",
       "    .dataframe tbody tr th:only-of-type {\n",
       "        vertical-align: middle;\n",
       "    }\n",
       "\n",
       "    .dataframe tbody tr th {\n",
       "        vertical-align: top;\n",
       "    }\n",
       "\n",
       "    .dataframe thead th {\n",
       "        text-align: right;\n",
       "    }\n",
       "</style>\n",
       "<table border=\"1\" class=\"dataframe\">\n",
       "  <thead>\n",
       "    <tr style=\"text-align: right;\">\n",
       "      <th></th>\n",
       "      <th>username</th>\n",
       "      <th>comment</th>\n",
       "    </tr>\n",
       "  </thead>\n",
       "  <tbody>\n",
       "    <tr>\n",
       "      <th>0</th>\n",
       "      <td>@alvinvinoza</td>\n",
       "      <td>naikin gajinya</td>\n",
       "    </tr>\n",
       "    <tr>\n",
       "      <th>1</th>\n",
       "      <td>@MuklasinMuklasin-k6w</td>\n",
       "      <td>kalo tidak ada hukuman mati  sampek kiamat pun...</td>\n",
       "    </tr>\n",
       "    <tr>\n",
       "      <th>2</th>\n",
       "      <td>@infotodax</td>\n",
       "      <td>gua gak kebayang  gaji elu berapa  tapi kesera...</td>\n",
       "    </tr>\n",
       "    <tr>\n",
       "      <th>3</th>\n",
       "      <td>@febbriyansaputra4132</td>\n",
       "      <td>tolong host nya di support dan di lindungi ini</td>\n",
       "    </tr>\n",
       "    <tr>\n",
       "      <th>4</th>\n",
       "      <td>@chalvit4162</td>\n",
       "      <td>harusnya berita ya kayak begini dibawa santai ...</td>\n",
       "    </tr>\n",
       "    <tr>\n",
       "      <th>...</th>\n",
       "      <td>...</td>\n",
       "      <td>...</td>\n",
       "    </tr>\n",
       "    <tr>\n",
       "      <th>7549</th>\n",
       "      <td>hedianti</td>\n",
       "      <td>halah  selama korupsi ga hukum mati  cmn beber...</td>\n",
       "    </tr>\n",
       "    <tr>\n",
       "      <th>7550</th>\n",
       "      <td>Charles39953441</td>\n",
       "      <td>beberapa dirut pertamina jadi tersangka setela...</td>\n",
       "    </tr>\n",
       "    <tr>\n",
       "      <th>7551</th>\n",
       "      <td>Aryabarcelona</td>\n",
       "      <td>tahun baru terungkap beneran gak si kerjanya</td>\n",
       "    </tr>\n",
       "    <tr>\n",
       "      <th>7552</th>\n",
       "      <td>harley_doni</td>\n",
       "      <td>masak ka sebodoh itu ya  apakah mmg membodohka...</td>\n",
       "    </tr>\n",
       "    <tr>\n",
       "      <th>7553</th>\n",
       "      <td>bisnis_h</td>\n",
       "      <td>nah kalo semua bisa di tindak harus jelas dasa...</td>\n",
       "    </tr>\n",
       "  </tbody>\n",
       "</table>\n",
       "<p>7554 rows × 2 columns</p>\n",
       "</div>"
      ],
      "text/plain": [
       "                   username                                            comment\n",
       "0              @alvinvinoza                                     naikin gajinya\n",
       "1     @MuklasinMuklasin-k6w  kalo tidak ada hukuman mati  sampek kiamat pun...\n",
       "2                @infotodax  gua gak kebayang  gaji elu berapa  tapi kesera...\n",
       "3     @febbriyansaputra4132     tolong host nya di support dan di lindungi ini\n",
       "4              @chalvit4162  harusnya berita ya kayak begini dibawa santai ...\n",
       "...                     ...                                                ...\n",
       "7549               hedianti  halah  selama korupsi ga hukum mati  cmn beber...\n",
       "7550        Charles39953441  beberapa dirut pertamina jadi tersangka setela...\n",
       "7551          Aryabarcelona       tahun baru terungkap beneran gak si kerjanya\n",
       "7552            harley_doni  masak ka sebodoh itu ya  apakah mmg membodohka...\n",
       "7553               bisnis_h  nah kalo semua bisa di tindak harus jelas dasa...\n",
       "\n",
       "[7554 rows x 2 columns]"
      ]
     },
     "execution_count": 8,
     "metadata": {},
     "output_type": "execute_result"
    }
   ],
   "source": [
    "sentimen_public = sentimen_public[['username', 'comment']]\n",
    "sentimen_public"
   ]
  },
  {
   "cell_type": "markdown",
   "metadata": {},
   "source": [
    "### convert corpus to lower case"
   ]
  },
  {
   "cell_type": "code",
   "execution_count": 9,
   "metadata": {},
   "outputs": [
    {
     "name": "stderr",
     "output_type": "stream",
     "text": [
      "C:\\Users\\alber\\AppData\\Local\\Temp\\ipykernel_6952\\2563371219.py:1: SettingWithCopyWarning: \n",
      "A value is trying to be set on a copy of a slice from a DataFrame.\n",
      "Try using .loc[row_indexer,col_indexer] = value instead\n",
      "\n",
      "See the caveats in the documentation: https://pandas.pydata.org/pandas-docs/stable/user_guide/indexing.html#returning-a-view-versus-a-copy\n",
      "  sentimen_public['comment'] = sentimen_public['comment'].apply(lambda content: \" \".join(words.lower() for words in content.split()))\n"
     ]
    },
    {
     "data": {
      "text/plain": [
       "0                                          naikin gajinya\n",
       "1       kalo tidak ada hukuman mati sampek kiamat pun ...\n",
       "2       gua gak kebayang gaji elu berapa tapi keseraka...\n",
       "3          tolong host nya di support dan di lindungi ini\n",
       "4       harusnya berita ya kayak begini dibawa santai ...\n",
       "                              ...                        \n",
       "7549    halah selama korupsi ga hukum mati cmn beberap...\n",
       "7550    beberapa dirut pertamina jadi tersangka setela...\n",
       "7551         tahun baru terungkap beneran gak si kerjanya\n",
       "7552    masak ka sebodoh itu ya apakah mmg membodohkan...\n",
       "7553    nah kalo semua bisa di tindak harus jelas dasa...\n",
       "Name: comment, Length: 7554, dtype: object"
      ]
     },
     "execution_count": 9,
     "metadata": {},
     "output_type": "execute_result"
    }
   ],
   "source": [
    "sentimen_public['comment'] = sentimen_public['comment'].apply(lambda content: \" \".join(words.lower() for words in content.split()))\n",
    "sentimen_public['comment']"
   ]
  },
  {
   "cell_type": "markdown",
   "metadata": {},
   "source": [
    "## Cleaning mark quotion etc."
   ]
  },
  {
   "cell_type": "code",
   "execution_count": 10,
   "metadata": {},
   "outputs": [],
   "source": [
    "import re\n",
    "import string\n",
    "\n",
    "def clean_mark(data):\n",
    "    # Menghapus mention (@username) yang terdiri dari satu kata (hanya huruf dan angka)\n",
    "    data = re.sub(r'@[A-Za-z0-9]+(?:_[A-Za-z0-9]+)*', '', data)\n",
    "    \n",
    "    # Menghapus hashtag (#hashtag)\n",
    "    data = re.sub(r'#[A-Za-z0-9]+', '', data)\n",
    "    \n",
    "    # Menghapus URL\n",
    "    data = re.sub(r'http\\S+', '', data)\n",
    "    \n",
    "    # Menghapus angka\n",
    "    data = re.sub(r'[0-9]+', '', data)\n",
    "\n",
    "    # Menghapus RT (retweet)\n",
    "    data = re.sub(r'RT\\s+', '', data)\n",
    "    \n",
    "    # Menghapus karakter non-huruf dan non-angka\n",
    "    data = re.sub(r'[^A-Za-z0-9]', ' ', data)\n",
    "\n",
    "    # Menghapus karakter yang berulang lebih dari dua kali\n",
    "    data = re.sub(r'(.)\\1+', r'\\1\\1', data)\n",
    "    \n",
    "    # Menghapus duplikasi kata berturut-turut\n",
    "    data = re.sub(r'\\b(\\w+)( \\1\\b)+', r'\\1', data)\n",
    "    \n",
    "    # Menghapus tanda baca berturut-turut\n",
    "    data = re.sub(r'[\\?\\.\\!]+(?=[\\?.\\!])', '', data)\n",
    "    \n",
    "    # Menghapus tanda baca\n",
    "    data = data.translate(str.maketrans('', '', string.punctuation))\n",
    "    \n",
    "    # Menghapus spasi di awal dan akhir\n",
    "    data = data.strip()\n",
    "    \n",
    "    return data\n",
    "\n",
    "\n",
    "def remove_emojis(text):\n",
    "    emoji_pattern = re.compile(\n",
    "        u'['\n",
    "        u'\\U0001F600-\\U0001F64F'  # emoticons\n",
    "        u'\\U0001F300-\\U0001F5FF'  # symbol\n",
    "        u'\\U0001F680-\\U0001F6FF'  # transports and map\n",
    "        u'\\U0001F700-\\U0001F77F'  # alchemist symbols\n",
    "        u'\\U0001F780-\\U0001F7FF'  # geometry symbols\n",
    "        u'\\U0001F800-\\U0001F8FF'  # additional symbols\n",
    "        u'\\U0001F900-\\U0001F9FF'  # faces, hands, etc.\n",
    "        u'\\U0001FA00-\\U0001FA6F'  # additional faces\n",
    "        u'\\U0001FA70-\\U0001FAFF'  # additional symbols\n",
    "        u'\\U00002702-\\U000027B0'  # hand gestures, symbols\n",
    "        u'\\U000024C2-\\U0001F251'  # general emojis\n",
    "        u'\\U0001F004-\\U0001F0CF'  # playing card symbols\n",
    "        u'\\U0001F000-\\U0001F02F'  # Mahjong\n",
    "        u'\\U0001F1E0-\\U0001F1FF'  # Flags\n",
    "        u'\\U0001F200-\\U0001F251'  # Enclosed characters\n",
    "        u']', re.UNICODE)\n",
    "    \n",
    "    return re.sub(emoji_pattern, '', text)\n"
   ]
  },
  {
   "cell_type": "code",
   "execution_count": 11,
   "metadata": {},
   "outputs": [
    {
     "name": "stderr",
     "output_type": "stream",
     "text": [
      "C:\\Users\\alber\\AppData\\Local\\Temp\\ipykernel_6952\\2557478904.py:1: SettingWithCopyWarning: \n",
      "A value is trying to be set on a copy of a slice from a DataFrame.\n",
      "Try using .loc[row_indexer,col_indexer] = value instead\n",
      "\n",
      "See the caveats in the documentation: https://pandas.pydata.org/pandas-docs/stable/user_guide/indexing.html#returning-a-view-versus-a-copy\n",
      "  sentimen_public['comment'] = sentimen_public['comment'].apply(clean_mark)\n",
      "C:\\Users\\alber\\AppData\\Local\\Temp\\ipykernel_6952\\2557478904.py:2: SettingWithCopyWarning: \n",
      "A value is trying to be set on a copy of a slice from a DataFrame.\n",
      "Try using .loc[row_indexer,col_indexer] = value instead\n",
      "\n",
      "See the caveats in the documentation: https://pandas.pydata.org/pandas-docs/stable/user_guide/indexing.html#returning-a-view-versus-a-copy\n",
      "  sentimen_public['comment'] = sentimen_public['comment'].apply(remove_emojis)\n"
     ]
    },
    {
     "data": {
      "application/vnd.microsoft.datawrangler.viewer.v0+json": {
       "columns": [
        {
         "name": "index",
         "rawType": "int64",
         "type": "integer"
        },
        {
         "name": "username",
         "rawType": "object",
         "type": "string"
        },
        {
         "name": "comment",
         "rawType": "object",
         "type": "string"
        }
       ],
       "conversionMethod": "pd.DataFrame",
       "ref": "292788eb-09c1-4cde-b330-c10cd78866a2",
       "rows": [
        [
         "0",
         "@alvinvinoza",
         "naikin gajinya"
        ],
        [
         "1",
         "@MuklasinMuklasin-k6w",
         "kalo tidak ada hukuman mati sampek kiamat pun negeri ini masi saja ada yg korupsi"
        ],
        [
         "2",
         "@infotodax",
         "gua gak kebayang gaji elu berapa tapi keserakahan lu luar biasa"
        ],
        [
         "3",
         "@febbriyansaputra4132",
         "tolong host nya di support dan di lindungi ini"
        ],
        [
         "4",
         "@chalvit4162",
         "harusnya berita ya kayak begini dibawa santai tapi tajam abang ku"
        ],
        [
         "5",
         "@niutto5910",
         "korupsi di pertamina sudah menjadi budaya mendarah daging di setiap pejabatnya sejak dulu kala tapi baru dibongkar sekarang lebih baik terlambat dari pada tidak bumn dan institusi pemerintah lain juga sama korupnya harus dibongkar semua semoga pemerintahan prabowo benar bisa memberantas korupsi seperti yg dijanjikan"
        ],
        [
         "6",
         "@MuhammadRusmadi-o7k",
         "gila lama jdi terbiasa denger korupsi smpe ratusan triliun sumpah demi tuhan jangankan menuju indonesia emas yg ada menuju indonesia sakaratul maut"
        ],
        [
         "7",
         "@johansigarantang",
         "pria yang menurut gw pemberani ahmed nurmagedov host berita metro tv ini menurutku kreatif sama berani sekali kelihatan siapa yang mendukung dan siapa yang menyembunyikan"
        ],
        [
         "8",
         "@alfath4971",
         "pertamina dan pln harus di selidiki itu rugi terus kpk woi kerja"
        ],
        [
         "9",
         "@Lyvimoon",
         "shesshh beliau terlalu fokus memasak sampai lupa mengatur apinya yang terlalu membara lindungi beliauu jangan sampe pejabat yang baperan dan gak terima dikatain seperti itu menghukum beliau dengan alasan mencerkan nama baik semoag gak ada deh pejabat yang gak tau diri kek gitu otw subrekk"
        ],
        [
         "10",
         "@Rizallaufa_2014Rizallaufa",
         "penulis naskah harus di beri penghargaan cooking liga korupsi"
        ],
        [
         "11",
         "@imanradiman-xb7sq",
         "saya setuju ucapan bu karen bongkar saja siapapun yg turut menikmati korupsi jangan takut dari pada ditanggung sendiri dan kalau bisa sebut saja namanya jangan ragu ok"
        ],
        [
         "12",
         "@anasrullah4641",
         "let him cook"
        ],
        [
         "13",
         "@ardia2308",
         "saya kangen ada hakim yg memvonis koruptor hukuman mati atau minimal tahun penjara"
        ],
        [
         "14",
         "@rudypri100",
         "korupsi minimal milyar hukuman mati pasti indonesia makmur setuju nggak"
        ],
        [
         "15",
         "@ojolgaming9138",
         "dari tatapan matanya saya rasa penjelasan ibu ini jujur dan tanpa ditutupi"
        ],
        [
         "16",
         "@ForumAnakBangsa",
         "media harusmya begini bukan sekedar memberitakan tp juga mencerdaskan warga negara"
        ],
        [
         "17",
         "@ManzrealID",
         "baru kali ini nonton berita sampai akhir"
        ],
        [
         "18",
         "@KYA057",
         "berita tepi jurang"
        ],
        [
         "19",
         "@nr777s",
         "stand up terjun jurang"
        ],
        [
         "20",
         "@tayokids8865",
         "luar biasa lugas beradab dan mantap penjelasannya salam hormat bu karen"
        ],
        [
         "21",
         "@kidemang8606",
         "gila pak presiden rakyat mendukungmu terbitkan perpu perampasan aset koruptor pak presiden"
        ],
        [
         "22",
         "@sukoharjan1505",
         "nampak bu karen sangat tegar dg jawaban yang lancar"
        ],
        [
         "23",
         "@Djaisabdulajis",
         "yg beginianlah yg hrs d didemo para mahasiswa desak pemerintah untuk hukum berat para koruptor dan mengesahkan uu perampasan aset"
        ],
        [
         "24",
         "@mariasyarif884",
         "orang yg bersalah biasanya tidak mau berkomentar atau memberikan keterangan bahkan menganggap dirinya korban tapi ibu menjawab semua pertanyaan dengan lancar dan no komen ttg siapa yg mengorbankannya"
        ],
        [
         "25",
         "@carsahamdaniofficial",
         "ribuan pemulung di bantargebang mencari uang ribu susah payah harus memilah sampah yg penuh penyakit ini orang malah seenaknya uang trilyunan dimakan melalui jabatan rakyat hanya bisa mendoakan agar mereka hidup jadi pemulung"
        ],
        [
         "26",
         "@IdeKreatif1814",
         "tetap tegar tegas mentalnya kuat bngt bu smg ini hny ujian naik kelas byk berdoa krn allah swt maha tahu segalanya"
        ],
        [
         "27",
         "@mahdinafi4393",
         "korupsi aja semua terus sampai indonesia bangkrut"
        ],
        [
         "28",
         "@Mr4ngg4",
         "tetap semangat tegar y bu karen insyaallah semua tabir akan terbuka waktu akan berbicara untuk mengungkap kebenaran"
        ],
        [
         "29",
         "@nihnu-q7m",
         "anjai kali ini metrotv mewakili saya sebagai penggemar bola"
        ],
        [
         "30",
         "@pramistyo5025",
         "yg rugi itu rakyat bukan negara tetap untung"
        ],
        [
         "31",
         "@cokhro7228",
         "ibu karen bukan pelaku sebenarnya dia hanya dijadikan tumbal"
        ],
        [
         "32",
         "@syamsulusroqusroq3148",
         "ini jawaban yang mantap tanpa teks jujur dari hati tinggal tunggu kawan yg menemani di sel"
        ],
        [
         "33",
         "@angelachali3772",
         "gen z jadi reporter be like"
        ],
        [
         "34",
         "@bvp79",
         "tahun lalu china udah memberi contoh model hukum dlm memberantas korupsi tp indonesia tak mau mencontohnya dgn alasan ham"
        ],
        [
         "35",
         "@revachocolate2216",
         "menyala abangku reporter teruskan"
        ],
        [
         "36",
         "@munawirwin9918",
         "paling tuntutan jaksa tahun rp hukuman penjara tahun rp hukuman penjara tahun"
        ],
        [
         "37",
         "@UPrab-qj8ei",
         "selama uu sita aset bkm disahkan selama koruptor blm di hukum mati walaupun ada kejagung dan dibantu kpk pun korupsi tdk akan hilang dr negeri ini selama hukuman yg terlaku ringan di negeri ini namun tetap saya salut ama kejagung"
        ],
        [
         "38",
         "@KutuMetal-j8o",
         "setiap konspirasi harus ada yg jadi tumbal demi menutupi rahasia yg lebih besar"
        ],
        [
         "39",
         "@aldiapriansyah9305",
         "gosong cheff"
        ],
        [
         "40",
         "@nelsonbida9958",
         "ini yg dulu sering berteriak soal ahklak ke bawahannya ternyata mreka yg ngk ada ahklak"
        ],
        [
         "41",
         "@dhanielmanurung3415",
         "nonton metro tv karna mas ini"
        ],
        [
         "42",
         "@BliBilly",
         "berani sangat mantap mimin metro"
        ],
        [
         "43",
         "@habib.af75",
         "lindungi beliau"
        ],
        [
         "44",
         "@aisyahmubarak8614",
         "sabar ya bu karen allah akan melindungi dirimu yg zolim pasti dilaknat allah aamiinn"
        ],
        [
         "45",
         "@wisastragoesty7249",
         "ibu karen harus berani buka semua nya se jelas nya aamiin"
        ],
        [
         "46",
         "@HBudionoHMBA",
         "kebenaran tetap berada pada tempatnya begitu juga keburukkan berada pada tempatnya kebenaran dan keburukkan akan muncul pada waktunya buka semua apa yang terjadi di pertamina bu karen sejak awal menjabat telah disematkan pejabat yang bagus dan punya reputasi yang cemerlang"
        ],
        [
         "47",
         "@Istimevva",
         "ibu ini org jujur dr jawabannya lugas kalau bohong bertele cari pembenaran tapi ibu ini tidak lugas dann dr gesture wajar jujur dan menahan beban"
        ],
        [
         "48",
         "@Mr.Brick1359",
         "absolute cinema"
        ],
        [
         "49",
         "@fariez26",
         "yg bangga kerja di pertamina hallo apa kabar"
        ]
       ],
       "shape": {
        "columns": 2,
        "rows": 7554
       }
      },
      "text/html": [
       "<div>\n",
       "<style scoped>\n",
       "    .dataframe tbody tr th:only-of-type {\n",
       "        vertical-align: middle;\n",
       "    }\n",
       "\n",
       "    .dataframe tbody tr th {\n",
       "        vertical-align: top;\n",
       "    }\n",
       "\n",
       "    .dataframe thead th {\n",
       "        text-align: right;\n",
       "    }\n",
       "</style>\n",
       "<table border=\"1\" class=\"dataframe\">\n",
       "  <thead>\n",
       "    <tr style=\"text-align: right;\">\n",
       "      <th></th>\n",
       "      <th>username</th>\n",
       "      <th>comment</th>\n",
       "    </tr>\n",
       "  </thead>\n",
       "  <tbody>\n",
       "    <tr>\n",
       "      <th>0</th>\n",
       "      <td>@alvinvinoza</td>\n",
       "      <td>naikin gajinya</td>\n",
       "    </tr>\n",
       "    <tr>\n",
       "      <th>1</th>\n",
       "      <td>@MuklasinMuklasin-k6w</td>\n",
       "      <td>kalo tidak ada hukuman mati sampek kiamat pun ...</td>\n",
       "    </tr>\n",
       "    <tr>\n",
       "      <th>2</th>\n",
       "      <td>@infotodax</td>\n",
       "      <td>gua gak kebayang gaji elu berapa tapi keseraka...</td>\n",
       "    </tr>\n",
       "    <tr>\n",
       "      <th>3</th>\n",
       "      <td>@febbriyansaputra4132</td>\n",
       "      <td>tolong host nya di support dan di lindungi ini</td>\n",
       "    </tr>\n",
       "    <tr>\n",
       "      <th>4</th>\n",
       "      <td>@chalvit4162</td>\n",
       "      <td>harusnya berita ya kayak begini dibawa santai ...</td>\n",
       "    </tr>\n",
       "    <tr>\n",
       "      <th>...</th>\n",
       "      <td>...</td>\n",
       "      <td>...</td>\n",
       "    </tr>\n",
       "    <tr>\n",
       "      <th>7549</th>\n",
       "      <td>hedianti</td>\n",
       "      <td>halah selama korupsi ga hukum mati cmn beberap...</td>\n",
       "    </tr>\n",
       "    <tr>\n",
       "      <th>7550</th>\n",
       "      <td>Charles39953441</td>\n",
       "      <td>beberapa dirut pertamina jadi tersangka setela...</td>\n",
       "    </tr>\n",
       "    <tr>\n",
       "      <th>7551</th>\n",
       "      <td>Aryabarcelona</td>\n",
       "      <td>tahun baru terungkap beneran gak si kerjanya</td>\n",
       "    </tr>\n",
       "    <tr>\n",
       "      <th>7552</th>\n",
       "      <td>harley_doni</td>\n",
       "      <td>masak ka sebodoh itu ya apakah mmg membodohkan...</td>\n",
       "    </tr>\n",
       "    <tr>\n",
       "      <th>7553</th>\n",
       "      <td>bisnis_h</td>\n",
       "      <td>nah kalo semua bisa di tindak harus jelas dasa...</td>\n",
       "    </tr>\n",
       "  </tbody>\n",
       "</table>\n",
       "<p>7554 rows × 2 columns</p>\n",
       "</div>"
      ],
      "text/plain": [
       "                   username                                            comment\n",
       "0              @alvinvinoza                                     naikin gajinya\n",
       "1     @MuklasinMuklasin-k6w  kalo tidak ada hukuman mati sampek kiamat pun ...\n",
       "2                @infotodax  gua gak kebayang gaji elu berapa tapi keseraka...\n",
       "3     @febbriyansaputra4132     tolong host nya di support dan di lindungi ini\n",
       "4              @chalvit4162  harusnya berita ya kayak begini dibawa santai ...\n",
       "...                     ...                                                ...\n",
       "7549               hedianti  halah selama korupsi ga hukum mati cmn beberap...\n",
       "7550        Charles39953441  beberapa dirut pertamina jadi tersangka setela...\n",
       "7551          Aryabarcelona       tahun baru terungkap beneran gak si kerjanya\n",
       "7552            harley_doni  masak ka sebodoh itu ya apakah mmg membodohkan...\n",
       "7553               bisnis_h  nah kalo semua bisa di tindak harus jelas dasa...\n",
       "\n",
       "[7554 rows x 2 columns]"
      ]
     },
     "execution_count": 11,
     "metadata": {},
     "output_type": "execute_result"
    }
   ],
   "source": [
    "sentimen_public['comment'] = sentimen_public['comment'].apply(clean_mark)\n",
    "sentimen_public['comment'] = sentimen_public['comment'].apply(remove_emojis)\n",
    "\n",
    "sentimen_public"
   ]
  },
  {
   "cell_type": "code",
   "execution_count": 13,
   "metadata": {},
   "outputs": [
    {
     "data": {
      "text/plain": [
       "0"
      ]
     },
     "execution_count": 13,
     "metadata": {},
     "output_type": "execute_result"
    }
   ],
   "source": [
    "sentimen_public['comment'].isna().sum()"
   ]
  },
  {
   "cell_type": "code",
   "execution_count": 14,
   "metadata": {},
   "outputs": [],
   "source": [
    "sentimen_public.to_csv('sentiment_public.csv', index=False)"
   ]
  }
 ],
 "metadata": {
  "kernelspec": {
   "display_name": "Python 3",
   "language": "python",
   "name": "python3"
  },
  "language_info": {
   "codemirror_mode": {
    "name": "ipython",
    "version": 3
   },
   "file_extension": ".py",
   "mimetype": "text/x-python",
   "name": "python",
   "nbconvert_exporter": "python",
   "pygments_lexer": "ipython3",
   "version": "3.12.8"
  }
 },
 "nbformat": 4,
 "nbformat_minor": 2
}
